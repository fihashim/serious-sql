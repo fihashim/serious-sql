{
 "cells": [
  {
   "cell_type": "markdown",
   "metadata": {},
   "source": [
    "# Data With Danny\n",
    "## 8 Week SQL Challenge (Week 1 Danny's Diner)\n",
    "\n",
    "### <u>Introduction </u>\n",
    "\n",
    "Danny's passion for Japanese cuisine led him to venture into the restaurant industry at the start of 2021. With a love for sushi, curry, and ramen, he opened a charming eatery named Danny's Diner. Now, Danny's Diner seeks your expertise to navigate the challenges of sustaining its operations. While the restaurant has collected fundamental data during its initial months, they lack the know-how to leverage this information effectively in managing their business."
   ]
  },
  {
   "cell_type": "markdown",
   "metadata": {},
   "source": [
    "<div>\n",
    "<img src=\"./dannys_diner/dannys_diner_intro.png\" width=\"500\"/>\n",
    "</div>"
   ]
  },
  {
   "cell_type": "markdown",
   "metadata": {},
   "source": [
    "### <u>Problem Statement </u>\n",
    "Danny aims to utilize the data to gain insights into his customers, focusing on their:\n",
    "- Visiting patterns,\n",
    "- Expenditure,\n",
    "- Favorite menu items.\n",
    "\n",
    "By understanding these aspects, Danny seeks to establish a deeper connection with his patrons, enhancing their dining experience with personalized touches. He intends to employ these findings in deciding whether to enhance the current customer loyalty program. Moreover, he requires assistance in creating basic datasets for his team to analyze the data seamlessly, eliminating the need for SQL.\n",
    "\n",
    "The dataset comprises three tables: \n",
    "- sales\n",
    "- members \n",
    "- menu \n",
    "\n",
    "Please refer to the relationship diagram below for understanding their connections."
   ]
  },
  {
   "cell_type": "markdown",
   "metadata": {},
   "source": [
    "### <u>Entity-Relationship Diagram</u>\n",
    "<div>\n",
    "<img src=\"./dannys_diner/entity-diagram.png\" width=\"500\"/>\n",
    "</div>"
   ]
  },
  {
   "cell_type": "markdown",
   "metadata": {},
   "source": [
    "##### 1. What is the total amount each customer spent at the restaurant?\n",
    "```sql \n",
    "SELECT s.customer_id, SUM(price) AS total_spent FROM dannys_diner.sales AS s\n",
    "LEFT JOIN dannys_diner.members AS m\n",
    "ON s.customer_id = m.customer_id\n",
    "LEFT JOIN dannys_diner.menu AS me\n",
    "ON s.product_id = me.product_id\n",
    "GROUP BY s.customer_id \n",
    "ORDER BY total_spent DESC\n",
    "\n",
    "SELECT * FROM table1\n",
    "```"
   ]
  },
  {
   "cell_type": "markdown",
   "metadata": {},
   "source": [
    "<div>\n",
    "<img src=\"./dannys_diner/s1.png\" width=\"500\"/>\n",
    "</div>"
   ]
  },
  {
   "cell_type": "markdown",
   "metadata": {},
   "source": [
    "##### 2. How many days has each customer visited the restaurant?\n"
   ]
  },
  {
   "cell_type": "markdown",
   "metadata": {},
   "source": [
    "```sql\n",
    "SELECT\n",
    "  customer_id,\n",
    "  COUNT(DISTINCT order_date)\n",
    "FROM dannys_diner.sales\n",
    "GROUP BY 1\n",
    "ORDER BY 2 DESC\n",
    "```"
   ]
  },
  {
   "cell_type": "markdown",
   "metadata": {},
   "source": [
    "![image info](./dannys_diner/s2.png)"
   ]
  },
  {
   "cell_type": "markdown",
   "metadata": {},
   "source": [
    "##### 3. What was the first item from the menu purchased by each customer?\n"
   ]
  },
  {
   "cell_type": "markdown",
   "metadata": {},
   "source": [
    "```sql\n",
    "WITH ranking_table AS (\n",
    "SELECT m.customer_id, \n",
    "       s.order_date,\n",
    "       RANK() OVER (PARTITION BY m.customer_id ORDER BY s.order_date) AS product_ranking,\n",
    "       me.product_name\n",
    "       FROM \n",
    "dannys_diner.members AS m \n",
    "JOIN dannys_diner.sales AS s\n",
    " ON m.customer_id = s.customer_id\n",
    "JOIN dannys_diner.menu AS me \n",
    " ON s.product_id = me.product_id\n",
    ")\n",
    "\n",
    "SELECT * FROM ranking_table\n",
    "WHERE product_ranking = 1\n",
    "```"
   ]
  },
  {
   "cell_type": "markdown",
   "metadata": {},
   "source": [
    "![image info](./dannys_diner/s3.png)"
   ]
  },
  {
   "cell_type": "markdown",
   "metadata": {},
   "source": [
    "##### 4. What is the most purchased item on the menu and how many times was it purchased by all customers?"
   ]
  },
  {
   "cell_type": "markdown",
   "metadata": {},
   "source": [
    "```sql \n",
    "DROP TABLE IF EXISTS t1; \n",
    "\n",
    "CREATE TEMP TABLE t1 AS (\n",
    "SELECT me.product_name, s.order_date FROM dannys_diner.sales AS s\n",
    "JOIN dannys_diner.menu AS me \n",
    "ON s.product_id = me.product_id\n",
    ");\n",
    "\n",
    "SELECT product_name, COUNT(product_name) AS product_count \n",
    "FROM t1 \n",
    "GROUP BY product_name\n",
    "ORDER BY product_count DESC\n",
    "```"
   ]
  },
  {
   "cell_type": "markdown",
   "metadata": {},
   "source": [
    "![image info](./dannys_diner/s4a.png)"
   ]
  },
  {
   "cell_type": "markdown",
   "metadata": {},
   "source": [
    "##### 5. Which item was the most popular for each customer?\n"
   ]
  },
  {
   "cell_type": "markdown",
   "metadata": {},
   "source": [
    "```sql\n",
    "DROP TABLE IF EXISTS t1; \n",
    "\n",
    "CREATE TEMP TABLE t1 AS (\n",
    "SELECT s.customer_id, me.product_name, COUNT(me.product_name) AS product_count,\n",
    "RANK() OVER (PARTITION BY s.customer_id ORDER BY COUNT(me.product_name) DESC) AS product_rank\n",
    "FROM dannys_diner.sales AS s\n",
    "JOIN dannys_diner.menu AS me \n",
    "ON s.product_id = me.product_id\n",
    "JOIN dannys_diner.members AS m \n",
    "ON m.customer_id = s.customer_id\n",
    "GROUP BY s.customer_id, me.product_name\n",
    ");\n",
    "\n",
    "SELECT customer_id, product_name, product_count\n",
    "FROM t1 \n",
    "WHERE product_rank = 1\n",
    "```\n"
   ]
  },
  {
   "cell_type": "markdown",
   "metadata": {},
   "source": [
    "![image info](./dannys_diner/s5.png)"
   ]
  },
  {
   "cell_type": "markdown",
   "metadata": {},
   "source": [
    "##### 6. Which item was purchased first by the customer after they became a member?\n"
   ]
  },
  {
   "cell_type": "markdown",
   "metadata": {},
   "source": [
    "```sql \n",
    "DROP TABLE IF EXISTS customer_buy;\n",
    "CREATE TEMP TABLE customer_buy AS \n",
    "(\n",
    "SELECT m.customer_id,\n",
    "       m.join_date,\n",
    "       me.product_name,\n",
    "       s.order_date, \n",
    "       RANK() OVER (PARTITION BY m.customer_id ORDER BY s.order_date) AS order_rank\n",
    "FROM dannys_diner.members AS m \n",
    "JOIN dannys_diner.sales AS s \n",
    "ON s.customer_id = m.customer_id \n",
    "JOIN dannys_diner.menu AS me \n",
    "ON me.product_id = s.product_id\n",
    "WHERE s.order_date > m.join_date\n",
    ");\n",
    "\n",
    "SELECT * FROM customer_buy\n",
    "WHERE order_rank = 1\n",
    "```"
   ]
  },
  {
   "cell_type": "markdown",
   "metadata": {},
   "source": [
    "![image info](./dannys_diner/s6.png)"
   ]
  },
  {
   "cell_type": "markdown",
   "metadata": {},
   "source": [
    "##### 7. Which item was purchased just before the customer became a member?\n"
   ]
  },
  {
   "cell_type": "markdown",
   "metadata": {},
   "source": [
    "```sql \n",
    "DROP TABLE IF EXISTS customer_buy;\n",
    "CREATE TEMP TABLE customer_buy AS \n",
    "(\n",
    "SELECT m.customer_id,\n",
    "       me.product_name,\n",
    "       DENSE_RANK() OVER (PARTITION BY m.customer_id ORDER BY MIN(s.order_date - m.join_date) DESC) AS product_rank \n",
    "FROM dannys_diner.members AS m \n",
    "JOIN dannys_diner.sales AS s \n",
    "ON s.customer_id = m.customer_id \n",
    "JOIN dannys_diner.menu AS me \n",
    "ON me.product_id = s.product_id\n",
    "WHERE (s.order_date - m.join_date) < 0 \n",
    "GROUP BY m.customer_id, me.product_name\n",
    ");\n",
    "\n",
    "SELECT *\n",
    "FROM customer_buy\n",
    "WHERE product_rank = 1\n",
    "```\n"
   ]
  },
  {
   "cell_type": "markdown",
   "metadata": {},
   "source": [
    "![image info](./dannys_diner/s7.png)"
   ]
  },
  {
   "cell_type": "markdown",
   "metadata": {},
   "source": [
    "##### 8. What is the total items and amount spent for each member before they became a member?"
   ]
  },
  {
   "cell_type": "markdown",
   "metadata": {},
   "source": [
    "```sql \n",
    "DROP TABLE IF EXISTS customer_buy; \n",
    "\n",
    "CREATE TEMP TABLE customer_buy AS (\n",
    "SELECT m.customer_id,\n",
    "       m.join_date, \n",
    "       s.order_date, \n",
    "       me.product_name,\n",
    "       me.price\n",
    "FROM dannys_diner.members AS m \n",
    "JOIN dannys_diner.sales AS s \n",
    "ON m.customer_id = s.customer_id \n",
    "JOIN dannys_diner.menu AS me \n",
    "ON me.product_id = s.product_id\n",
    "WHERE s.order_date < m.join_date\n",
    ");\n",
    "\n",
    "WITH t2 AS (\n",
    "  SELECT customer_id, product_name, COUNT(DISTINCT product_name) AS unique_products, SUM(price) AS total_spent FROM customer_buy\n",
    "  GROUP BY customer_id, product_name\n",
    ")\n",
    "\n",
    "SELECT customer_id, SUM(unique_products) AS total_products, SUM(total_spent) \n",
    "FROM t2 \n",
    "GROUP BY customer_id\n",
    "```"
   ]
  },
  {
   "cell_type": "markdown",
   "metadata": {},
   "source": [
    "![image info](./dannys_diner/s8.png)"
   ]
  },
  {
   "cell_type": "markdown",
   "metadata": {},
   "source": [
    "##### 9. If each $1 spent equates to 10 points and sushi has a 2x points multiplier - how many points would each customer have?"
   ]
  },
  {
   "cell_type": "markdown",
   "metadata": {},
   "source": [
    "```sql \n",
    "DROP TABLE IF EXISTS customer_points; \n",
    "\n",
    "CREATE TEMP TABLE customer_points AS (\n",
    "SELECT s.customer_id, me.product_name, me.price \n",
    "FROM dannys_diner.members AS m \n",
    "RIGHT JOIN dannys_diner.sales AS s \n",
    "ON m.customer_id = s.customer_id \n",
    "JOIN dannys_diner.menu AS me \n",
    "ON me.product_id = s.product_id\n",
    ");\n",
    "\n",
    "WITH points_table AS (\n",
    "SELECT customer_id, product_name,\n",
    "CASE \n",
    "  WHEN product_name = 'sushi' \n",
    "    THEN (price * 2 * 10) \n",
    "    ELSE (price * 10) \n",
    "  END AS points\n",
    "FROM customer_points\n",
    ")\n",
    "\n",
    "SELECT customer_id, SUM(points) AS total_points FROM points_table \n",
    "GROUP BY customer_id \n",
    "ORDER BY SUM(points)\n",
    "\n",
    "```"
   ]
  },
  {
   "cell_type": "markdown",
   "metadata": {},
   "source": [
    "![image info](./dannys_diner/s9.png)"
   ]
  },
  {
   "cell_type": "markdown",
   "metadata": {},
   "source": [
    "##### 10. In the first week after a customer joins the program (including their join date) they earn 2x points on all items, not just sushi - how many points do customer A and B have at the end of January?"
   ]
  },
  {
   "cell_type": "markdown",
   "metadata": {},
   "source": [
    "```sql \n",
    "SELECT\n",
    "  sales.customer_id,\n",
    "  SUM(\n",
    "    CASE\n",
    "      WHEN sales.order_date BETWEEN\n",
    "        members.join_date::DATE AND members.join_date::DATE+6\n",
    "        THEN 2 * 10 * menu.price\n",
    "      WHEN menu.product_name = 'sushi' THEN 2 * 10 * menu.price \n",
    "      ELSE 10 * menu.price\n",
    "  END) AS points\n",
    "FROM dannys_diner.sales\n",
    "JOIN dannys_diner.menu\n",
    "  ON sales.product_id = menu.product_id\n",
    "JOIN dannys_diner.members\n",
    "  ON sales.customer_id = members.customer_id\n",
    "WHERE sales.order_date <= CAST('2021-01-31' AS DATE)\n",
    "GROUP BY sales.customer_id\n",
    "ORDER BY customer_id\n",
    "```"
   ]
  },
  {
   "cell_type": "markdown",
   "metadata": {},
   "source": [
    "![image info](./dannys_diner/s10.png)"
   ]
  },
  {
   "cell_type": "markdown",
   "metadata": {},
   "source": [
    "#### Bonus questions\n",
    "##### 11. Recreate the following table output using the available data:\n",
    "\n",
    "![image info](./dannys_diner/s11.png)"
   ]
  },
  {
   "cell_type": "markdown",
   "metadata": {},
   "source": [
    "```sql\n",
    "SELECT s.customer_id, \n",
    "       s.order_date, \n",
    "       me.product_name, \n",
    "       me.price, \n",
    "       CASE WHEN m.join_date <= s.order_date THEN 'Y' ELSE 'N' END AS member\n",
    "FROM dannys_diner.sales AS s \n",
    "LEFT JOIN dannys_diner.menu AS me \n",
    "ON s.product_id = me.product_id\n",
    "LEFT JOIN dannys_diner.members AS m \n",
    "ON m.customer_id = s.customer_id \n",
    "ORDER BY customer_id, order_date, product_name\n",
    "```"
   ]
  },
  {
   "cell_type": "markdown",
   "metadata": {},
   "source": [
    "##### 12. Danny also requires further information about the ranking of customer products, but he purposely does not need the ranking for non-member purchases so he expects null ranking values for the records when customers are not yet part of the loyalty program.\n",
    "\n",
    "![image info](./dannys_diner/s12.png)"
   ]
  },
  {
   "cell_type": "markdown",
   "metadata": {},
   "source": [
    "```sql\n",
    "WITH t1 AS (\n",
    "SELECT s.customer_id, \n",
    "       s.order_date, \n",
    "       me.product_name, \n",
    "       me.price, \n",
    "       CASE WHEN m.join_date <= s.order_date THEN 'Y' ELSE 'N' END AS member\n",
    "FROM dannys_diner.sales AS s \n",
    "LEFT JOIN dannys_diner.menu AS me \n",
    "ON s.product_id = me.product_id\n",
    "LEFT JOIN dannys_diner.members AS m \n",
    "ON m.customer_id = s.customer_id \n",
    ")\n",
    "\n",
    "SELECT *, \n",
    "CASE WHEN member = 'Y' THEN RANK() OVER \n",
    "(PARTITION BY customer_id, member ORDER BY order_date) \n",
    "ELSE NULL\n",
    "END AS ranking\n",
    "FROM t1\n",
    "```"
   ]
  }
 ],
 "metadata": {
  "language_info": {
   "name": "python"
  }
 },
 "nbformat": 4,
 "nbformat_minor": 2
}
