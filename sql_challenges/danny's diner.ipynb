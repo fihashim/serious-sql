{
 "cells": [
  {
   "cell_type": "code",
   "execution_count": null,
   "metadata": {},
   "outputs": [],
   "source": []
  },
  {
   "cell_type": "markdown",
   "metadata": {},
   "source": [
    "1. What is the total amount each customer spent at the restaurant?\n",
    "~~~sql \n",
    "SELECT s.customer_id, SUM(price) AS total_spent FROM dannys_diner.sales AS s\n",
    "LEFT JOIN dannys_diner.members AS m\n",
    "ON s.customer_id = m.customer_id\n",
    "LEFT JOIN dannys_diner.menu AS me\n",
    "ON s.product_id = me.product_id\n",
    "GROUP BY s.customer_id \n",
    "ORDER BY total_spent DESC\n",
    "\n",
    "SELECT * FROM table1"
   ]
  },
  {
   "cell_type": "markdown",
   "metadata": {},
   "source": [
    "![image info](./dannys_diner/s1.png)"
   ]
  },
  {
   "cell_type": "markdown",
   "metadata": {},
   "source": [
    "2. How many days has each customer visited the restaurant?\n"
   ]
  },
  {
   "cell_type": "markdown",
   "metadata": {},
   "source": [
    "~~~sql\n",
    "SELECT\n",
    "  customer_id,\n",
    "  COUNT(DISTINCT order_date)\n",
    "FROM dannys_diner.sales\n",
    "GROUP BY 1\n",
    "ORDER BY 2 DESC"
   ]
  },
  {
   "cell_type": "markdown",
   "metadata": {},
   "source": [
    "![image info](./dannys_diner/s2.png)"
   ]
  },
  {
   "cell_type": "markdown",
   "metadata": {},
   "source": [
    "3. What was the first item from the menu purchased by each customer?\n"
   ]
  },
  {
   "cell_type": "markdown",
   "metadata": {},
   "source": [
    "~~~sql\n",
    "WITH ranking_table AS (\n",
    "SELECT m.customer_id, \n",
    "       s.order_date,\n",
    "       RANK() OVER (PARTITION BY m.customer_id ORDER BY s.order_date) AS product_ranking,\n",
    "       me.product_name\n",
    "       FROM \n",
    "dannys_diner.members AS m \n",
    "JOIN dannys_diner.sales AS s\n",
    " ON m.customer_id = s.customer_id\n",
    "JOIN dannys_diner.menu AS me \n",
    " ON s.product_id = me.product_id\n",
    ")\n",
    "\n",
    "SELECT * FROM ranking_table\n",
    "WHERE product_ranking = 1\n"
   ]
  },
  {
   "cell_type": "markdown",
   "metadata": {},
   "source": [
    "![image info](./dannys_diner/s3.png)"
   ]
  },
  {
   "cell_type": "markdown",
   "metadata": {},
   "source": [
    "4. What is the most purchased item on the menu and how many times was it purchased by all customers?"
   ]
  },
  {
   "cell_type": "markdown",
   "metadata": {},
   "source": [
    "~~~sql \n",
    "DROP TABLE IF EXISTS t1; \n",
    "\n",
    "CREATE TEMP TABLE t1 AS (\n",
    "SELECT me.product_name, s.order_date FROM dannys_diner.sales AS s\n",
    "JOIN dannys_diner.menu AS me \n",
    "ON s.product_id = me.product_id\n",
    ");\n",
    "\n",
    "SELECT product_name, COUNT(product_name) AS product_count \n",
    "FROM t1 \n",
    "GROUP BY product_name\n",
    "ORDER BY product_count DESC"
   ]
  },
  {
   "cell_type": "markdown",
   "metadata": {},
   "source": [
    "![image info](./dannys_diner/s4a.png)"
   ]
  },
  {
   "cell_type": "markdown",
   "metadata": {},
   "source": [
    "5. Which item was the most popular for each customer?\n"
   ]
  },
  {
   "cell_type": "markdown",
   "metadata": {},
   "source": [
    "~~~sql\n",
    "DROP TABLE IF EXISTS t1; \n",
    "\n",
    "CREATE TEMP TABLE t1 AS (\n",
    "SELECT s.customer_id, me.product_name, COUNT(me.product_name) AS product_count,\n",
    "RANK() OVER (PARTITION BY s.customer_id ORDER BY COUNT(me.product_name) DESC) AS product_rank\n",
    "FROM dannys_diner.sales AS s\n",
    "JOIN dannys_diner.menu AS me \n",
    "ON s.product_id = me.product_id\n",
    "JOIN dannys_diner.members AS m \n",
    "ON m.customer_id = s.customer_id\n",
    "GROUP BY s.customer_id, me.product_name\n",
    ");\n",
    "\n",
    "SELECT customer_id, product_name, product_count\n",
    "FROM t1 \n",
    "WHERE product_rank = 1\n"
   ]
  },
  {
   "cell_type": "markdown",
   "metadata": {},
   "source": [
    "![image info](./dannys_diner/s5.png)"
   ]
  }
 ],
 "metadata": {
  "language_info": {
   "name": "python"
  }
 },
 "nbformat": 4,
 "nbformat_minor": 2
}
