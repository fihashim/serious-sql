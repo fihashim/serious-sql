{
 "cells": [
  {
   "cell_type": "markdown",
   "metadata": {},
   "source": [
    "# clean up runner_orders table\n",
    "~~~sql \n",
    "DROP TABLE IF EXISTS ro_edited; \n",
    "CREATE TEMP TABLE ro_edited AS (\n",
    "    SELECT order_id, \n",
    "      runner_id, \n",
    "      pickup_time, \n",
    "      REGEXP_REPLACE(distance, 'km.|\\.4\\s*km|\\.4|km$', '') AS distance_km, \n",
    "      REGEXP_REPLACE(duration, 'minutes|\\s*mins|\\sminute[s]?', '') AS duration_min\n",
    "FROM pizza_runner.runner_orders\n",
    "WHERE pickup_time != 'null'\n",
    ");\n",
    "\n",
    "ALTER TABLE ro_edited \n",
    "ALTER COLUMN distance_km TYPE integer USING (distance_km::integer),\n",
    "ALTER COLUMN duration_min TYPE integer USING (duration_min::integer);\n",
    "\n",
    "-- joining customer_orders table \n",
    "SELECT * FROM ro_edited\n",
    "LEFT JOIN pizza_runner.runners AS r \n",
    "ON ro_edited.runner_id = r.runner_id \n",
    "LEFT JOIN pizza_runner.customer_orders AS co \n",
    "ON ro_edited.order_id = co.order_id \n",
    "WHERE co.exclusions != 'null' AND co.extras != 'null'\n",
    "\n",
    "-- joining pizza_names and recipes\n",
    "SELECT * FROM ro_edited\n",
    "LEFT JOIN pizza_runner.runners AS r \n",
    "ON ro_edited.runner_id = r.runner_id \n",
    "LEFT JOIN pizza_runner.customer_orders AS co \n",
    "ON ro_edited.order_id = co.order_id \n",
    "LEFT JOIN pizza_runner.pizza_names AS pn \n",
    "ON co.pizza_id = pn.pizza_id\n",
    "LEFT JOIN pizza_runner.pizza_recipes AS pr \n",
    "ON co.pizza_id = pr.pizza_id\n",
    "WHERE co.exclusions != 'null' AND co.extras != 'null'"
   ]
  },
  {
   "cell_type": "markdown",
   "metadata": {},
   "source": [
    "```sql \n",
    "DROP TABLE IF EXISTS ro_edited; \n",
    "CREATE TEMP TABLE ro_edited AS (\n",
    "    SELECT order_id, \n",
    "      runner_id, \n",
    "      pickup_time, \n",
    "      REGEXP_REPLACE(distance, 'km.|\\.4\\s*km|\\.4|km$', '') AS distance_km, \n",
    "      REGEXP_REPLACE(duration, 'minutes|\\s*mins|\\sminute[s]?', '') AS duration_min\n",
    "FROM pizza_runner.runner_orders\n",
    "WHERE pickup_time != 'null'\n",
    ");\n",
    "\n",
    "ALTER TABLE ro_edited \n",
    "ALTER COLUMN distance_km TYPE integer USING (distance_km::integer),\n",
    "ALTER COLUMN duration_min TYPE integer USING (duration_min::integer);\n",
    "\n",
    "WITH t1 AS (\n",
    "SELECT * FROM ro_edited\n",
    "LEFT JOIN pizza_runner.runners AS r \n",
    "ON ro_edited.runner_id = r.runner_id \n",
    "RIGHT JOIN pizza_runner.customer_orders AS co \n",
    "ON ro_edited.order_id = co.order_id \n",
    "INNER JOIN pizza_runner.pizza_names AS pn \n",
    "ON co.pizza_id = pn.pizza_id\n",
    "INNER JOIN pizza_runner.pizza_recipes AS pr \n",
    "ON co.pizza_id = pr.pizza_id\n",
    "WHERE co.exclusions != 'null' AND co.extras != 'null' \n",
    ")\n",
    "\n",
    "SELECT COUNT(pizza_id) AS pizza_count FROM pizza_runner.customer_orders\n",
    "\n",
    "```\n"
   ]
  }
 ],
 "metadata": {
  "kernelspec": {
   "display_name": "py310",
   "language": "python",
   "name": "python3"
  },
  "language_info": {
   "codemirror_mode": {
    "name": "ipython",
    "version": 3
   },
   "file_extension": ".py",
   "mimetype": "text/x-python",
   "name": "python",
   "nbconvert_exporter": "python",
   "pygments_lexer": "ipython3",
   "version": "3.10.13"
  }
 },
 "nbformat": 4,
 "nbformat_minor": 2
}
