{
 "cells": [
  {
   "cell_type": "markdown",
   "metadata": {},
   "source": []
  },
  {
   "cell_type": "markdown",
   "metadata": {},
   "source": [
    "##### 1. How many customers has Foodie-Fi ever had?"
   ]
  },
  {
   "cell_type": "markdown",
   "metadata": {},
   "source": [
    "```sql \n",
    "SELECT COUNT(DISTINCT(customer_id)) AS customer_count \n",
    "FROM foodie_fi.subscriptions\n",
    "```"
   ]
  },
  {
   "cell_type": "markdown",
   "metadata": {},
   "source": [
    "<div>\n",
    "<img src=\"../sql-screenshots/foodie_fi_images/s1.png\" width=\"250\"/>\n",
    "</div>"
   ]
  },
  {
   "cell_type": "markdown",
   "metadata": {},
   "source": [
    "##### 2. What is the monthly distribution of trial plan start_date values for our dataset - use the start of the month as the group by value"
   ]
  },
  {
   "cell_type": "markdown",
   "metadata": {},
   "source": [
    "```sql \n",
    "SELECT DATE_TRUNC('month', start_date) AS start_date_trunc, \n",
    "COUNT(*) AS trial_count FROM foodie_fi.subscriptions\n",
    "LEFT JOIN foodie_fi.plans \n",
    "ON subscriptions.plan_id = plans.plan_id \n",
    "WHERE subscriptions.plan_id = 0 \n",
    "GROUP BY start_date_trunc\n",
    "ORDER BY start_date_trunc\n",
    "```"
   ]
  },
  {
   "cell_type": "markdown",
   "metadata": {},
   "source": [
    "<div>\n",
    "<img src=\"../sql-screenshots/foodie_fi_images/s2.png\" width=\"250\"/>\n",
    "</div>"
   ]
  },
  {
   "cell_type": "markdown",
   "metadata": {},
   "source": [
    "##### 3. What plan start_date values occur after the year 2020 for our dataset? Show the breakdown by count of events for each plan_name"
   ]
  },
  {
   "cell_type": "markdown",
   "metadata": {},
   "source": [
    "```sql \n",
    "SELECT subscriptions.plan_id, plans.plan_name, \n",
    "COUNT(subscriptions.plan_id) AS plan_count\n",
    "FROM foodie_fi.subscriptions\n",
    "INNER JOIN foodie_fi.plans \n",
    "ON plans.plan_id = subscriptions.plan_id\n",
    "WHERE EXTRACT('YEAR' FROM start_date) > 2020\n",
    "GROUP BY subscriptions.plan_id, plans.plan_name\n",
    "ORDER BY plan_count\n",
    "```"
   ]
  },
  {
   "cell_type": "markdown",
   "metadata": {},
   "source": [
    "<div>\n",
    "<img src=\"../sql-screenshots/foodie_fi_images/s3.png\" width=\"300\"/>\n",
    "</div>"
   ]
  },
  {
   "cell_type": "markdown",
   "metadata": {},
   "source": [
    "##### 4. What is the customer count and percentage of customers who have churned rounded to 1 decimal place?\n",
    "\n",
    "```sql \n",
    "SELECT\n",
    "  SUM(CASE WHEN plan_id = 4 THEN 1 ELSE 0 END) AS churn_customers,\n",
    "  ROUND(\n",
    "    100 * SUM(CASE WHEN plan_id = 4 THEN 1 ELSE 0 END) /\n",
    "      COUNT(DISTINCT customer_id)\n",
    "  ,1) AS percentage\n",
    "FROM foodie_fi.subscriptions;\n",
    "```"
   ]
  },
  {
   "cell_type": "markdown",
   "metadata": {},
   "source": [
    "<div>\n",
    "<img src=\"../sql-screenshots/foodie_fi_images/s4.png\" width=\"250\"/>\n",
    "</div>"
   ]
  },
  {
   "cell_type": "markdown",
   "metadata": {},
   "source": [
    "##### 5. How many customers have churned straight after their initial free trial, what percentage is this rounded to the nearest whole number?"
   ]
  },
  {
   "cell_type": "markdown",
   "metadata": {},
   "source": [
    "```sql \n",
    "WITH customer_table AS (\n",
    "SELECT customer_id, subscriptions.plan_id, start_date, plan_name, \n",
    "  CASE WHEN plan_name = 'basic monthly' THEN start_date + 30 \n",
    "       WHEN plan_name = 'trial' THEN start_date + 7 \n",
    "       WHEN plan_name = 'pro annual' THEN start_date + 365 \n",
    "       WHEN plan_name = 'pro monthly' THEN start_date + 30 \n",
    "       ELSE start_date - 7 END AS end_date \n",
    "FROM foodie_fi.subscriptions\n",
    "LEFT JOIN foodie_fi.plans \n",
    "ON subscriptions.plan_id = plans.plan_id\n",
    "), period_table AS (\n",
    "SELECT customer_id, plan_id,\n",
    "  CASE WHEN (plan_id = 0) THEN STRING_AGG (\n",
    "\tstart_date || ':' || end_date,\n",
    "        ',')\n",
    "    ELSE STRING_AGG (\n",
    "\tend_date || ':' || start_date,\n",
    "        ',')\n",
    "      END AS period\n",
    "FROM customer_table\n",
    "WHERE plan_id = 0 OR plan_id = 4 \n",
    "GROUP BY customer_id, plan_id\n",
    "ORDER BY customer_id, plan_id \n",
    "), churn_count AS ( -- contains the number of customers churned. \n",
    "  SELECT customer_id, COUNT(*) FROM period_table\n",
    "GROUP BY customer_id, period\n",
    "HAVING COUNT(*) > 1 \n",
    "ORDER BY customer_id DESC\n",
    ")\n",
    "\n",
    "-- alternative solution\n",
    "WITH customer_table AS (\n",
    "SELECT customer_id, plan_id,  \n",
    "ROW_NUMBER() OVER (PARTITION BY customer_id ORDER BY start_date) AS period_rank \n",
    "FROM foodie_fi.subscriptions\n",
    "ORDER BY customer_id, plan_id\n",
    ")\n",
    "\n",
    "SELECT\n",
    "  SUM(CASE WHEN plan_id = 4 THEN 1 ELSE 0 END) AS churn_customers,\n",
    "  ROUND(\n",
    "    100 * SUM(CASE WHEN plan_id = 4 THEN 1 ELSE 0 END) /\n",
    "    COUNT(*)\n",
    "  ) AS percentage\n",
    "FROM customer_table\n",
    "WHERE period_rank = 2;\n",
    "```"
   ]
  },
  {
   "cell_type": "markdown",
   "metadata": {},
   "source": []
  }
 ],
 "metadata": {
  "language_info": {
   "name": "python"
  }
 },
 "nbformat": 4,
 "nbformat_minor": 2
}
