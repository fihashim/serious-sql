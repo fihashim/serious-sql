{
 "cells": [
  {
   "cell_type": "markdown",
   "metadata": {},
   "source": [
    "## Week 2 - Pizza Runner"
   ]
  },
  {
   "cell_type": "markdown",
   "metadata": {},
   "source": [
    "### <u>Introduction </u>\n",
    "\n",
    "Did you know that over 115 million kilograms of pizza are devoured daily worldwide? This astounding statistic, coupled with Danny's serendipitous encounter with the phrase \"80s Retro Styling and Pizza Is The Future!\" on Instagram, sparked the inception of Pizza Runner. Recognizing that traditional pizza alone wouldn't suffice to propel his vision forward, Danny conceived the idea to \"Uberize\" pizza delivery—a concept that laid the foundation for Pizza Runner.\n",
    "\n",
    "<div>\n",
    "<img src=\"../sql-screenshots/pizza_runner_images/pizza-runner.png\"/>\n",
    "</div>\n"
   ]
  },
  {
   "cell_type": "markdown",
   "metadata": {},
   "source": [
    "### <u>Entity-Relationship Diagram </u>\n",
    "<div>\n",
    "<img src=\"../sql-screenshots/pizza_runner_images/entity-diagram.png\" width=\"500\"/>\n",
    "</div>\n"
   ]
  },
  {
   "cell_type": "markdown",
   "metadata": {},
   "source": [
    "#### A. Pizza Metrics\n",
    "##### 1. How many pizzas were ordered?\n",
    "```sql\n",
    "SELECT COUNT(pizza_id) AS pizza_count \n",
    "FROM pizza_runner.customer_orders\n",
    "```"
   ]
  },
  {
   "cell_type": "markdown",
   "metadata": {},
   "source": [
    "<div>\n",
    "<img src=\"../sql-screenshots/pizza_runner_images/s1.png\" width=\"250\"/>\n",
    "</div>"
   ]
  },
  {
   "cell_type": "markdown",
   "metadata": {},
   "source": [
    "##### 2. How many unique customer orders were made?\n",
    "```sql \n",
    "SELECT COUNT(DISTINCT customer_id) AS unique_customer_orders \n",
    "FROM pizza_runner.customer_orders\n",
    "```"
   ]
  },
  {
   "cell_type": "markdown",
   "metadata": {},
   "source": [
    "<div>\n",
    "<img src=\"../sql-screenshots/pizza_runner_images/s2.png\" width=\"250\"/>\n",
    "</div>"
   ]
  },
  {
   "cell_type": "markdown",
   "metadata": {},
   "source": [
    "##### 3. How many successful orders were delivered by each runner?\n",
    "```sql \n",
    "SELECT runner_id,\n",
    "SUM(CASE \n",
    "  WHEN cancellation IS NULL OR \n",
    "       cancellation = 'null' OR \n",
    "       nullif(cancellation, '') IS NULL \n",
    "       THEN 1 ELSE 0 \n",
    "  END) AS success_orders\n",
    "FROM pizza_runner.runner_orders AS ro \n",
    "GROUP BY runner_id\n",
    "ORDER BY runner_id \n",
    "```"
   ]
  },
  {
   "cell_type": "markdown",
   "metadata": {},
   "source": [
    "<div>\n",
    "<img src=\"../sql-screenshots/pizza_runner_images/s3.png\" width=\"250\"/>\n",
    "</div>"
   ]
  },
  {
   "cell_type": "markdown",
   "metadata": {},
   "source": [
    "##### 4. How many of each type of pizza was delivered?\n",
    "```sql\n",
    "SELECT pizza_name,\n",
    "SUM(CASE \n",
    "  WHEN cancellation IS NULL OR \n",
    "       cancellation = 'null' OR \n",
    "       nullif(cancellation, '') IS NULL \n",
    "       THEN 1 ELSE 0 \n",
    "  END) AS success_orders\n",
    "FROM pizza_runner.runner_orders AS ro \n",
    "LEFT JOIN pizza_runner.customer_orders AS co \n",
    "ON ro.order_id = co.order_id \n",
    "LEFT JOIN pizza_runner.pizza_names AS pn \n",
    "ON co.pizza_id = pn.pizza_id \n",
    "GROUP BY pizza_name \n",
    "```"
   ]
  },
  {
   "cell_type": "markdown",
   "metadata": {},
   "source": [
    "<div>\n",
    "<img src=\"../sql-screenshots/pizza_runner_images/s4.png\" width=\"250\"/>\n",
    "</div>"
   ]
  },
  {
   "cell_type": "markdown",
   "metadata": {},
   "source": [
    "##### 5. How many Vegetarian and Meatlovers were ordered by each customer?\n"
   ]
  },
  {
   "cell_type": "markdown",
   "metadata": {},
   "source": [
    "```sql\n",
    "SELECT customer_id, pizza_name, COUNT(pizza_name) AS pizza_count \n",
    "FROM pizza_runner.customer_orders AS co \n",
    "LEFT JOIN pizza_runner.pizza_names AS pn \n",
    "ON co.pizza_id = pn.pizza_id\n",
    "GROUP BY customer_id, pizza_name \n",
    "ORDER BY customer_id\n",
    "```"
   ]
  },
  {
   "cell_type": "markdown",
   "metadata": {},
   "source": [
    "<div>\n",
    "<img src=\"../sql-screenshots/pizza_runner_images/s5.png\" width=\"250\"/>\n",
    "</div>"
   ]
  },
  {
   "cell_type": "markdown",
   "metadata": {},
   "source": [
    "##### 6. What was the maximum number of pizzas delivered in a single order?\n"
   ]
  },
  {
   "cell_type": "markdown",
   "metadata": {},
   "source": [
    "```sql \n",
    "WITH t1 AS (\n",
    "SELECT ro.order_id, \n",
    "  COUNT(CASE WHEN cancellation IS NULL OR \n",
    "       cancellation = 'null' OR \n",
    "       nullif(cancellation, '') IS NULL \n",
    "       THEN 1 ELSE 0 \n",
    "  END) AS pizza_success\n",
    "FROM pizza_runner.runner_orders AS ro \n",
    "LEFT JOIN pizza_runner.customer_orders AS co \n",
    "ON ro.order_id = co.order_id \n",
    "GROUP BY ro.order_id \n",
    ")\n",
    "\n",
    "SELECT order_id, MAX(pizza_success) AS max_pizza_order \n",
    "FROM t1 \n",
    "GROUP BY order_id \n",
    "ORDER BY max_pizza_order DESC\n",
    "LIMIT 1 \n",
    "```"
   ]
  },
  {
   "cell_type": "markdown",
   "metadata": {},
   "source": [
    "<div>\n",
    "<img src=\"../sql-screenshots/pizza_runner_images/s6.png\" width=\"250\"/>\n",
    "</div>"
   ]
  },
  {
   "cell_type": "markdown",
   "metadata": {},
   "source": [
    "##### 7. For each customer, how many delivered pizzas had at least 1 change and how many had no changes?\n"
   ]
  },
  {
   "cell_type": "markdown",
   "metadata": {},
   "source": [
    "```sql \n",
    "WITH t1 AS (\n",
    "SELECT *, \n",
    "  CASE WHEN cancellation IS NULL \n",
    "  OR cancellation = 'null' \n",
    "  OR nullif(cancellation, '') IS NULL \n",
    "  THEN 1 ELSE 0 \n",
    "  END AS cancel_status,\n",
    "   CASE WHEN exclusions IS NULL \n",
    "            OR exclusions = 'null' \n",
    "            OR nullif(exclusions, '') IS NULL \n",
    "  THEN 0 \n",
    "  ELSE 1 \n",
    "  END AS exclusion_status, \n",
    "  CASE WHEN extras ='null' \n",
    "            OR nullif(extras, '') IS NULL \n",
    "  THEN 0 \n",
    "  ELSE 1 \n",
    "  END AS extras_status\n",
    "FROM pizza_runner.runner_orders AS ro \n",
    "LEFT JOIN pizza_runner.customer_orders AS co \n",
    "ON ro.order_id = co.order_id\n",
    ")\n",
    "\n",
    "SELECT customer_id, SUM(change_count) AS total_change,SUM(no_change_count) AS total_no_change FROM \n",
    "(\n",
    "  SELECT customer_id, \n",
    "      CASE WHEN exclusion_status = 1 AND extras_status = 1 \n",
    "              OR exclusion_status = 1 AND extras_status = 0 \n",
    "              OR exclusion_status = 0 AND extras_status = 1\n",
    "              THEN 1 ELSE 0 END AS change_count,\n",
    "      CASE WHEN exclusion_status = 0 AND extras_status = 0 \n",
    "              THEN 1 ELSE 0 END as no_change_count\n",
    "      FROM t1 \n",
    "      WHERE cancel_status = 1 \n",
    ")\n",
    "GROUP BY customer_id \n",
    "ORDER BY customer_id \n",
    "```\n"
   ]
  },
  {
   "cell_type": "markdown",
   "metadata": {},
   "source": [
    "<div>\n",
    "<img src=\"../sql-screenshots/pizza_runner_images/s7.png\" width=\"250\"/>\n",
    "</div>"
   ]
  },
  {
   "cell_type": "markdown",
   "metadata": {},
   "source": [
    "##### 8. How many pizzas were delivered that had both exclusions and extras?\n"
   ]
  },
  {
   "cell_type": "markdown",
   "metadata": {},
   "source": [
    "```sql \n",
    "WITH t1 AS (\n",
    "SELECT *, \n",
    "  CASE WHEN cancellation IS NULL \n",
    "  OR cancellation = 'null' \n",
    "  OR nullif(cancellation, '') IS NULL \n",
    "  THEN 1 ELSE 0 \n",
    "  END AS cancel_status,\n",
    "   CASE WHEN exclusions IS NULL \n",
    "            OR exclusions = 'null' \n",
    "            OR nullif(exclusions, '') IS NULL \n",
    "  THEN 0 \n",
    "  ELSE 1 \n",
    "  END AS exclusion_status, \n",
    "  CASE WHEN extras ='null' \n",
    "            OR nullif(extras, '') IS NULL \n",
    "  THEN 0 \n",
    "  ELSE 1 \n",
    "  END AS extras_status\n",
    "FROM pizza_runner.runner_orders AS ro \n",
    "LEFT JOIN pizza_runner.customer_orders AS co \n",
    "ON ro.order_id = co.order_id\n",
    ")\n",
    "\n",
    "SELECT pizza_id, \n",
    "      SUM(CASE WHEN exclusion_status = 1 AND extras_status = 1 \n",
    "              THEN 1 ELSE 0 END) AS pizza_count\n",
    "      FROM t1 \n",
    "      WHERE cancel_status = 1\n",
    "GROUP BY pizza_id \n",
    "\n",
    "```"
   ]
  },
  {
   "cell_type": "markdown",
   "metadata": {},
   "source": [
    "<div>\n",
    "<img src=\"../sql-screenshots/pizza_runner_images/s8.png\" width=\"250\"/>\n",
    "</div>"
   ]
  },
  {
   "cell_type": "markdown",
   "metadata": {},
   "source": [
    "##### 9. What was the total volume of pizzas ordered for each hour of the day?\n"
   ]
  },
  {
   "cell_type": "markdown",
   "metadata": {},
   "source": [
    "```sql \n",
    "DROP TABLE IF EXISTS t1; \n",
    "CREATE TEMP TABLE t1 AS (\n",
    "SELECT co.order_id, co.order_time, co.pizza_id, DATE_TRUNC('day', co.order_time) AS order_day, \n",
    "DATE_TRUNC('hour', co.order_time) AS order_hour\n",
    "FROM pizza_runner.customer_orders AS co \n",
    "LEFT JOIN pizza_runner.runner_orders AS ro \n",
    "ON ro.order_id = co.order_id\n",
    ");\n",
    "\n",
    "SELECT DATE_PART('HOUR', order_hour) AS order_hour_part, COUNT(pizza_id) FROM t1 \n",
    "GROUP BY order_hour_part\n",
    "ORDER BY order_hour_part ASC\n",
    "```"
   ]
  },
  {
   "cell_type": "markdown",
   "metadata": {},
   "source": [
    "<div>\n",
    "<img src=\"../sql-screenshots/pizza_runner_images/s9.png\" width=\"250\"/>\n",
    "</div>"
   ]
  },
  {
   "cell_type": "markdown",
   "metadata": {},
   "source": [
    "##### 10. What was the volume of orders for each day of the week?\n"
   ]
  },
  {
   "cell_type": "markdown",
   "metadata": {},
   "source": [
    "``` sql \n",
    "WITH t1 AS (\n",
    "  SELECT\n",
    "\tTO_CHAR(order_time, 'Day') AS day,\n",
    "\tCOUNT(order_id) AS order_count, \n",
    "\tDATE_PART('dow', order_time) AS day_of_week \n",
    "FROM pizza_runner.customer_orders\n",
    "GROUP BY order_time\n",
    "ORDER BY order_time\n",
    ")\n",
    "\n",
    "SELECT day, SUM(order_count) AS total_orders\n",
    "FROM t1 \n",
    "GROUP BY day_of_week, day\n",
    "ORDER BY day_of_week \n",
    "```"
   ]
  },
  {
   "cell_type": "markdown",
   "metadata": {},
   "source": [
    "<div>\n",
    "<img src=\"../sql-screenshots/pizza_runner_images/s10.png\" width=\"250\"/>\n",
    "</div>"
   ]
  },
  {
   "cell_type": "markdown",
   "metadata": {},
   "source": [
    "#### B. Runner And Customer Experience \n",
    "##### 1. How many runners signed up for each 1 week period? (i.e. week starts 2021-01-01)\n"
   ]
  },
  {
   "cell_type": "markdown",
   "metadata": {},
   "source": [
    "```sql\n",
    "SELECT DATE_TRUNC('week', \"registration_date\") :: DATE + 4 AS registration_week, \n",
    "COUNT(runner_id) AS runner_count\n",
    "FROM pizza_runner.runners\n",
    "GROUP BY registration_week\n",
    "ORDER BY registration_week\n",
    "```"
   ]
  },
  {
   "cell_type": "markdown",
   "metadata": {},
   "source": [
    "<div>\n",
    "<img src=\"../sql-screenshots/pizza_runner_images/s11.png\" width=\"250\"/>\n",
    "</div>"
   ]
  },
  {
   "cell_type": "markdown",
   "metadata": {},
   "source": [
    "##### 2. What was the average time in minutes it took for each runner to arrive at the Pizza Runner HQ to pickup the order?"
   ]
  },
  {
   "cell_type": "markdown",
   "metadata": {},
   "source": [
    "```sql \n",
    "WITH t1 AS (\n",
    "SELECT co.order_id, ro.pickup_time, co.order_time,\n",
    "   DATE_PART('minute', pickup_time::TIMESTAMP - order_time) AS time_taken\n",
    "FROM pizza_runner.runner_orders AS ro \n",
    "INNER JOIN pizza_runner.customer_orders AS co \n",
    "ON ro.order_id = co.order_id \n",
    "WHERE pickup_time IS NOT NULL AND pickup_time != 'null' AND nullif(pickup_time, '') IS NOT NULL \n",
    "GROUP BY co.order_id,ro.pickup_time, co.order_time\n",
    ")\n",
    "\n",
    "SELECT FLOOR(AVG(time_taken)) AS average_time_taken FROM t1\n",
    "```"
   ]
  },
  {
   "cell_type": "markdown",
   "metadata": {},
   "source": [
    "<div>\n",
    "<img src=\"../sql-screenshots/pizza_runner_images/s12.png\" width=\"250\"/>\n",
    "</div>"
   ]
  },
  {
   "cell_type": "markdown",
   "metadata": {},
   "source": [
    "##### 3. Is there any relationship between the number of pizzas and how long the order takes to prepare?\n"
   ]
  },
  {
   "cell_type": "markdown",
   "metadata": {},
   "source": [
    "```sql \n",
    "WITH t1 AS (\n",
    "SELECT co.order_id, COUNT(co.order_id) AS pizza_count, \n",
    "DATE_PART('minute', ro.pickup_time::TIMESTAMP - co.order_time) AS prep_time\n",
    "FROM pizza_runner.customer_orders AS co \n",
    "JOIN pizza_runner.runner_orders AS ro \n",
    "ON ro.order_id = co.order_id\n",
    "WHERE pickup_time != 'null' AND pickup_time IS NOT NULL AND nullif(pickup_time, '') IS NOT NULL \n",
    "GROUP BY co.order_id, pickup_time, order_time \n",
    ")\n",
    "\n",
    "SELECT pizza_count, AVG(prep_time) AS average_prep_time FROM t1 \n",
    "GROUP BY pizza_count\n",
    "ORDER BY pizza_count  \n",
    "```"
   ]
  },
  {
   "cell_type": "markdown",
   "metadata": {},
   "source": [
    "<div>\n",
    "<img src=\"../sql-screenshots/pizza_runner_images/s13.png\" width=\"250\"/>\n",
    "</div>"
   ]
  },
  {
   "cell_type": "markdown",
   "metadata": {},
   "source": [
    "##### 4. What was the average distance travelled for each customer?"
   ]
  },
  {
   "cell_type": "markdown",
   "metadata": {},
   "source": [
    "```sql \n",
    "WITH cte_customer_order_distances AS (\n",
    "SELECT \n",
    "  t1.customer_id,\n",
    "  t1.order_id, t2.pickup_time, t2.cancellation, t2.duration, t1.order_time,\n",
    "  REGEXP_REPLACE(t2.distance, '\\s*km', '')::NUMERIC AS distance\n",
    "FROM pizza_runner.customer_orders AS t1\n",
    "INNER JOIN pizza_runner.runner_orders AS t2\n",
    "  ON t1.order_id = t2.order_id\n",
    "WHERE t2.pickup_time != 'null' AND t2.pickup_time IS NOT NULL \n",
    ")\n",
    "\n",
    "SELECT customer_id, ROUND(AVG(distance),1) FROM cte_customer_order_distances\n",
    "GROUP BY customer_id\n",
    "```"
   ]
  },
  {
   "cell_type": "markdown",
   "metadata": {},
   "source": [
    "<div>\n",
    "<img src=\"../sql-screenshots/pizza_runner_images/s14.png\" width=\"250\"/>\n",
    "</div>"
   ]
  },
  {
   "cell_type": "markdown",
   "metadata": {},
   "source": [
    "##### 5. What was the difference between the longest and shortest delivery times for all orders?\n"
   ]
  },
  {
   "cell_type": "markdown",
   "metadata": {},
   "source": [
    "```sql \n",
    "\n",
    "WITH cte_customer_order_delivery AS (\n",
    "SELECT \n",
    "  t1.order_id, t2.pickup_time, t2.cancellation, t1.order_time,\n",
    "  REGEXP_REPLACE(duration, 'minutes|\\s*mins|\\sminute[s]?', '')::NUMERIC AS duration_min\n",
    "FROM pizza_runner.customer_orders AS t1\n",
    "INNER JOIN pizza_runner.runner_orders AS t2\n",
    "  ON t1.order_id = t2.order_id\n",
    "WHERE t2.pickup_time != 'null' AND t2.pickup_time IS NOT NULL \n",
    ")\n",
    "\n",
    "SELECT MAX(duration_min) - MIN(duration_min) AS duration_diff\n",
    "FROM cte_customer_order_delivery\n",
    "\n",
    "```"
   ]
  },
  {
   "cell_type": "markdown",
   "metadata": {},
   "source": [
    "<div>\n",
    "<img src=\"../sql-screenshots/pizza_runner_images/s15.png\" width=\"250\"/>\n",
    "</div>"
   ]
  },
  {
   "cell_type": "markdown",
   "metadata": {},
   "source": [
    "##### 6. What was the average speed for each runner for each delivery and do you notice any trend for these values?"
   ]
  },
  {
   "cell_type": "markdown",
   "metadata": {},
   "source": [
    "```sql \n",
    "DROP TABLE IF EXISTS ro_edited; \n",
    "CREATE TEMP TABLE ro_edited AS (\n",
    "    SELECT customer_id, pizza_runner.customer_orders.order_id, \n",
    "      runner_id, \n",
    "      pickup_time, \n",
    "      REGEXP_REPLACE(distance, 'km.\\s*km|km$', '')::NUMERIC AS distance_km, \n",
    "      REGEXP_REPLACE(duration, 'minutes|\\s*mins|\\sminute[s]?', '')::NUMERIC AS duration_min\n",
    "FROM pizza_runner.runner_orders\n",
    "LEFT JOIN pizza_runner.customer_orders\n",
    "ON pizza_runner.runner_orders.order_id = pizza_runner.customer_orders.order_id\n",
    "WHERE pickup_time != 'null'\n",
    ");\n",
    "\n",
    "WITH t2 AS (\n",
    "SELECT customer_id, runner_id, DATE_PART('HOUR', pickup_time::TIMESTAMP) AS pickup_hour,\n",
    "distance_km, duration_min, \n",
    "ROUND(distance_km / (duration_min / 60),2) AS speed_km_h \n",
    "FROM ro_edited\n",
    "ORDER BY speed_km_h DESC, runner_id\n",
    ")\n",
    "\n",
    "SELECT  runner_id, customer_id, ROUND(AVG(speed_km_h),2) AS avg_speed FROM t2 \n",
    "GROUP BY  runner_id, customer_id\n",
    "ORDER BY runner_id, avg_speed DESC\n",
    "```"
   ]
  },
  {
   "cell_type": "markdown",
   "metadata": {},
   "source": [
    "<div>\n",
    "<img src=\"../sql-screenshots/pizza_runner_images/s16a.png\" width=\"250\"/>\n",
    "</div>"
   ]
  },
  {
   "cell_type": "markdown",
   "metadata": {},
   "source": [
    "##### 7. What is the successful delivery percentage for each runner?"
   ]
  },
  {
   "cell_type": "markdown",
   "metadata": {},
   "source": [
    "```sql \n",
    "WITH cte AS \n",
    "(\n",
    "\tSELECT runner_id, order_id,\n",
    "          CASE WHEN cancellation is NULL OR cancellation = 'null' OR nullif(cancellation, '') IS NULL \n",
    "          THEN 1\n",
    "          ELSE 0 END AS sucess_delivery\n",
    "    FROM pizza_runner.runner_orders\n",
    ")\n",
    "SELECT runner_id, ROUND( 100*SUM(sucess_delivery)/COUNT(order_id),2) AS success_rate\n",
    "FROM cte\n",
    "GROUP BY runner_id\n",
    "ORDER BY runner_id\n",
    "```"
   ]
  },
  {
   "cell_type": "markdown",
   "metadata": {},
   "source": [
    "<div>\n",
    "<img src=\"../sql-screenshots/pizza_runner_images/s17.png\" width=\"250\"/>\n",
    "</div>"
   ]
  },
  {
   "cell_type": "markdown",
   "metadata": {},
   "source": [
    "#### C. Ingredient Optimisation \n",
    "##### 1. What are the standard ingredients for each pizza?"
   ]
  },
  {
   "cell_type": "markdown",
   "metadata": {},
   "source": [
    "```sql \n",
    "WITH pizza_ingred AS (\n",
    "SELECT pizza_id, \n",
    "      REGEXP_SPLIT_TO_TABLE(toppings, '[,\\s]+')::INTEGER AS topping_id1\n",
    "FROM pizza_runner.pizza_recipes AS pr \n",
    ")\n",
    "\n",
    "SELECT\n",
    "  pizza_id, \n",
    "  STRING_AGG(t2.topping_name::TEXT, ',') AS standard_ingredients\n",
    "FROM pizza_ingred AS t1\n",
    "INNER JOIN pizza_runner.pizza_toppings AS t2\n",
    "  ON t1.topping_id1 = t2.topping_id\n",
    "GROUP BY pizza_id\n",
    "ORDER BY pizza_id;\n",
    "```"
   ]
  },
  {
   "cell_type": "markdown",
   "metadata": {},
   "source": [
    "<div>\n",
    "<img src=\"../sql-screenshots/pizza_runner_images/s18.png\" width=\"600\"/>\n",
    "</div>"
   ]
  },
  {
   "cell_type": "markdown",
   "metadata": {},
   "source": [
    "##### 2. What was the most commonly added extra?"
   ]
  },
  {
   "cell_type": "markdown",
   "metadata": {},
   "source": [
    "```sql \n",
    "WITH extras_table AS (\n",
    "SELECT pizza_id, REGEXP_SPLIT_TO_TABLE(extras, '\\s*,\\s*')::INTEGER AS extras_list \n",
    "FROM pizza_runner.customer_orders\n",
    "WHERE extras IS NOT NULL AND extras != 'null' AND nullif(extras, '') IS NOT NULL \n",
    ")\n",
    "\n",
    "SELECT topping_name, COUNT(*) AS topping_count \n",
    "FROM extras_table\n",
    "INNER JOIN pizza_runner.pizza_toppings AS pt \n",
    "ON extras_table.extras_list = pt.topping_id\n",
    "GROUP BY topping_name\n",
    "ORDER BY topping_count DESC \n",
    "\n",
    "```"
   ]
  },
  {
   "cell_type": "markdown",
   "metadata": {},
   "source": [
    "<div>\n",
    "<img src=\"../sql-screenshots/pizza_runner_images/s19.png\" width=\"250\"/>\n",
    "</div>"
   ]
  },
  {
   "cell_type": "markdown",
   "metadata": {},
   "source": [
    "##### 3. What was the most common exclusion?\n"
   ]
  },
  {
   "cell_type": "markdown",
   "metadata": {},
   "source": [
    "```sql \n",
    "WITH exclusion_table AS (\n",
    "SELECT pizza_id, REGEXP_SPLIT_TO_TABLE(exclusions, '\\s*,\\s*')::INTEGER AS exclusions_list \n",
    "FROM pizza_runner.customer_orders\n",
    "WHERE exclusions IS NOT NULL AND exclusions != 'null' AND nullif(exclusions, '') IS NOT NULL \n",
    ")\n",
    "\n",
    "SELECT topping_name, COUNT(*) AS topping_count \n",
    "FROM exclusion_table\n",
    "INNER JOIN pizza_runner.pizza_toppings AS pt \n",
    "ON exclusion_table.exclusions_list = pt.topping_id\n",
    "GROUP BY topping_name\n",
    "ORDER BY topping_count DESC \n",
    "```"
   ]
  },
  {
   "cell_type": "markdown",
   "metadata": {},
   "source": [
    "<div>\n",
    "<img src=\"../sql-screenshots/pizza_runner_images/s20.png\" width=\"250\"/>\n",
    "</div>"
   ]
  },
  {
   "cell_type": "markdown",
   "metadata": {},
   "source": [
    "##### 4. Generate an order item for each record in the customers_orders table in the format of one of the following:\n",
    "      - Meat Lovers\n",
    "      - Meat Lovers - Exclude Beef\n",
    "      - Meat Lovers - Extra Bacon\n",
    "      - Meat Lovers - Exclude Cheese, Bacon - Extra Mushroom, Peppers"
   ]
  },
  {
   "cell_type": "markdown",
   "metadata": {},
   "source": [
    "```sql \n",
    "WITH cte_co_cleaned AS (\n",
    "SELECT order_id, pizza_id, customer_id, order_time, \n",
    "CASE\n",
    "  WHEN exclusions IN ('', 'null') THEN NULL\n",
    "  ELSE exclusions\n",
    "END AS exclusions,\n",
    "CASE\n",
    "  WHEN extras IN ('', 'null') THEN NULL\n",
    "  ELSE extras\n",
    "END AS extras,\n",
    "ROW_NUMBER() OVER () AS original_row_number -- need this to maintain the order of rows. \n",
    "FROM pizza_runner.customer_orders\n",
    "),\n",
    "cte_extras_exclusions AS (\n",
    "    SELECT\n",
    "      order_id,\n",
    "      customer_id,\n",
    "      pizza_id,\n",
    "      REGEXP_SPLIT_TO_TABLE(exclusions, '[,\\s]+')::INTEGER AS exclusions_topping_id,\n",
    "      REGEXP_SPLIT_TO_TABLE(extras, '[,\\s]+')::INTEGER AS extras_topping_id,\n",
    "      order_time,\n",
    "      original_row_number\n",
    "    FROM cte_co_cleaned\n",
    "  UNION -- because you only want the distinct null rows that were removed by regexp_split_to_table\n",
    "    SELECT\n",
    "      order_id,\n",
    "      customer_id,\n",
    "      pizza_id,\n",
    "      NULL AS exclusions_topping_id,\n",
    "      NULL AS extras_topping_id,\n",
    "      order_time,\n",
    "      original_row_number\n",
    "    FROM cte_co_cleaned\n",
    "    WHERE exclusions IS NULL AND extras IS NULL  \n",
    "  ), \n",
    "cte_complete_dataset AS ( -- combines the rows containing duplicate pizza_ids exclusion and extras into a single row \n",
    "  SELECT\n",
    "    base.order_id,\n",
    "    base.customer_id,\n",
    "    base.pizza_id,\n",
    "    names.pizza_name,\n",
    "    base.order_time,\n",
    "    base.original_row_number,\n",
    "    STRING_AGG(exclusions.topping_name, ', ') AS exclusions,\n",
    "    STRING_AGG(extras.topping_name, ', ') AS extras\n",
    "  FROM cte_extras_exclusions AS base\n",
    "  INNER JOIN pizza_runner.pizza_names AS names\n",
    "    ON base.pizza_id = names.pizza_id\n",
    "  LEFT JOIN pizza_runner.pizza_toppings AS exclusions\n",
    "    ON base.exclusions_topping_id = exclusions.topping_id\n",
    "  LEFT JOIN pizza_runner.pizza_toppings AS extras\n",
    "    ON base.exclusions_topping_id = extras.topping_id\n",
    "  GROUP BY\n",
    "    base.order_id,\n",
    "    base.customer_id,\n",
    "    base.pizza_id,\n",
    "    names.pizza_name,\n",
    "    base.order_time,\n",
    "    base.original_row_number\n",
    "), \n",
    "cte_parsed_string_outputs AS (\n",
    "SELECT\n",
    "  order_id,\n",
    "  customer_id,\n",
    "  pizza_id,\n",
    "  order_time,\n",
    "  original_row_number,\n",
    "  pizza_name,\n",
    "  CASE WHEN exclusions IS NULL THEN '' ELSE ' - Exclude ' || exclusions END AS exclusions,\n",
    "  CASE WHEN extras IS NULL THEN '' ELSE ' - Extra ' || exclusions END AS extras\n",
    "FROM cte_complete_dataset\n",
    "), \n",
    "final_output AS (\n",
    "  SELECT\n",
    "    order_id,\n",
    "    customer_id,\n",
    "    pizza_id,\n",
    "    order_time,\n",
    "    original_row_number,\n",
    "    pizza_name || exclusions || extras AS order_item\n",
    "  FROM cte_parsed_string_outputs\n",
    ")\n",
    "  \n",
    "SELECT\n",
    "  order_id,\n",
    "  customer_id,\n",
    "  pizza_id,\n",
    "  order_time,\n",
    "  order_item\n",
    "FROM final_output\n",
    "ORDER BY original_row_number;\n",
    "```"
   ]
  },
  {
   "cell_type": "markdown",
   "metadata": {},
   "source": [
    "<div>\n",
    "<img src=\"../sql-screenshots/pizza_runner_images/s21.png\" width=\"900\"/>\n",
    "</div>"
   ]
  },
  {
   "cell_type": "markdown",
   "metadata": {},
   "source": [
    "##### 5. Generate an alphabetically ordered comma separated ingredient list for each pizza order from the customer_orders table and add a 2x in front of any relevant ingredients\n"
   ]
  },
  {
   "cell_type": "markdown",
   "metadata": {},
   "source": [
    "```sql \n",
    "WITH cte_cleaned_table AS (\n",
    "SELECT \n",
    "  order_id, \n",
    "  co.pizza_id, \n",
    "  customer_id, order_time,\n",
    "  toppings as std_toppings, \n",
    "  CASE WHEN exclusions IN ('', 'null') THEN NULL ELSE exclusions \n",
    "  END AS exclusions, \n",
    "  CASE WHEN extras IN ('', 'null') THEN NULL ELSE extras\n",
    "  END AS extras,\n",
    "  ROW_NUMBER() OVER () AS original_row_number\n",
    "FROM pizza_runner.customer_orders AS co \n",
    "LEFT JOIN pizza_runner.pizza_recipes AS pr \n",
    "ON co.pizza_id = pr.pizza_id\n",
    "), \n",
    "\n",
    "-- create an exclusions table\n",
    "cte_exclusions_table AS (\n",
    "SELECT order_id, pizza_id, customer_id, order_time, original_row_number,  \n",
    "REGEXP_SPLIT_TO_TABLE(exclusions, '[,\\s]+')::INTEGER AS topping_id \n",
    "FROM cte_cleaned_table\n",
    "), \n",
    "\n",
    "-- create an extras table\n",
    "cte_extras_table AS (\n",
    "SELECT order_id, pizza_id, customer_id, order_time, original_row_number, \n",
    "REGEXP_SPLIT_TO_TABLE(extras, '[,\\s]+')::INTEGER AS topping_id \n",
    "FROM cte_cleaned_table\n",
    "), \n",
    "\n",
    "-- create a standard base table\n",
    "cte_base_table AS (\n",
    "SELECT order_id, pizza_id, customer_id, order_time, original_row_number, \n",
    "REGEXP_SPLIT_TO_TABLE(std_toppings, '[,\\s]+')::INTEGER AS topping_id \n",
    "FROM cte_cleaned_table\n",
    "), \n",
    "\n",
    "-- create a base and exclusions and extras table \n",
    "cte_combined_orders AS (\n",
    "  SELECT * FROM cte_base_table\n",
    "  EXCEPT\n",
    "  SELECT * FROM cte_exclusions_table\n",
    "  UNION ALL\n",
    "  SELECT * FROM cte_extras_table\n",
    "), \n",
    "\n",
    "-- contains the combined orders with pizza name and topping names\n",
    "cte_joined_table AS (\n",
    "SELECT order_id, \n",
    "       cte_combined_orders.pizza_id,\n",
    "       cte_combined_orders.customer_id, \n",
    "       order_time, \n",
    "      original_row_number, \n",
    "      pizza_name, \n",
    "      cte_combined_orders.topping_id, \n",
    "      topping_name \n",
    "      FROM cte_combined_orders\n",
    "LEFT JOIN pizza_runner.pizza_names AS pn \n",
    "ON cte_combined_orders.pizza_id = pn.pizza_id\n",
    "LEFT JOIN pizza_runner.pizza_toppings AS pt \n",
    "ON cte_combined_orders.topping_id = pt.topping_id\n",
    "), \n",
    "\n",
    "-- contains a count of the toppings \n",
    "topping_pizza AS (\n",
    "SELECT order_id, pizza_id, customer_id, order_time, original_row_number, pizza_name, topping_name, COUNT(topping_name) AS topping_count\n",
    "FROM cte_joined_table\n",
    "GROUP BY order_id, pizza_id, customer_id, order_time, original_row_number, pizza_name, topping_name\n",
    "ORDER BY order_id, pizza_id, customer_id, pizza_name\n",
    ")\n",
    "\n",
    "-- final table\n",
    "SELECT\n",
    "  order_id,\n",
    "  customer_id,\n",
    "  pizza_id,\n",
    "  order_time,\n",
    "  original_row_number,  pizza_name || ': ' ||STRING_AGG(CASE WHEN topping_count > 1 THEN topping_count || 'x ' || topping_name ELSE topping_name END,',') AS ingredients_list\n",
    "FROM topping_pizza\n",
    "GROUP BY\n",
    "  order_id,\n",
    "  customer_id,\n",
    "  pizza_id,\n",
    "  order_time,\n",
    "  original_row_number,\n",
    "  pizza_name\n",
    "ORDER BY   order_id,\n",
    "  customer_id,\n",
    "  original_row_number ASC\n",
    "```"
   ]
  },
  {
   "cell_type": "markdown",
   "metadata": {},
   "source": [
    "<div>\n",
    "<img src=\"../sql-screenshots/pizza_runner_images/s22.png\" width=\"900\"/>\n",
    "</div>"
   ]
  },
  {
   "cell_type": "markdown",
   "metadata": {},
   "source": [
    "##### 6. What is the total quantity of each ingredient used in all delivered pizzas sorted by most frequent first?"
   ]
  },
  {
   "cell_type": "markdown",
   "metadata": {},
   "source": []
  },
  {
   "cell_type": "markdown",
   "metadata": {},
   "source": [
    "#### 4. Part D. Pricing And Ratings \n",
    "##### 1. If a Meat Lovers pizza costs $12 and Vegetarian costs $10 and there were no charges for changes - how much money has Pizza Runner made so far if there are no delivery fees?"
   ]
  },
  {
   "cell_type": "markdown",
   "metadata": {},
   "source": [
    "```sql \n",
    "WITH ro_edited AS (\n",
    "SELECT \n",
    " co.order_id, \n",
    " runner_id, \n",
    " pickup_time, \n",
    " distance, \n",
    " duration, pizza_name, \n",
    "  CASE WHEN \n",
    "  cancellation = 'null' OR cancellation IS NULL OR cancellation = '' THEN '0' ELSE '1'\n",
    "  END as cancel_status\n",
    "FROM pizza_runner.runner_orders AS ro \n",
    "LEFT JOIN pizza_runner.customer_orders AS co \n",
    "ON ro.order_id = co.order_id \n",
    "LEFT JOIN pizza_runner.pizza_names AS pn \n",
    "ON co.pizza_id = pn.pizza_id\n",
    ")\n",
    "\n",
    "\n",
    "SELECT \n",
    "SUM(CASE WHEN pizza_name = 'Meatlovers' THEN 12 ELSE 10 END) AS revenue\n",
    "FROM ro_edited\n",
    "```"
   ]
  },
  {
   "cell_type": "markdown",
   "metadata": {},
   "source": [
    "<div>\n",
    "<img src=\"../sql-screenshots/pizza_runner_images/s23.png\" width=\"150\"/>\n",
    "</div>"
   ]
  },
  {
   "cell_type": "markdown",
   "metadata": {},
   "source": [
    "##### 2. What if there was an additional $1 charge for any pizza extras? + Add cheese is $1 extra"
   ]
  },
  {
   "cell_type": "markdown",
   "metadata": {},
   "source": [
    "```sql \n",
    "WITH cte_cleaned_customer_orders AS (\n",
    "  SELECT\n",
    "    order_id,\n",
    "    customer_id,\n",
    "    pizza_id,\n",
    "    CASE\n",
    "      WHEN exclusions IN ('', 'null') THEN NULL\n",
    "      ELSE exclusions\n",
    "    END AS exclusions,\n",
    "    CASE\n",
    "      WHEN extras IN ('', 'null') THEN NULL\n",
    "      ELSE extras\n",
    "    END AS extras,\n",
    "    order_time,\n",
    "    ROW_NUMBER() OVER () AS original_row_number\n",
    "  FROM pizza_runner.customer_orders\n",
    "  WHERE EXISTS (\n",
    "    SELECT 1 FROM pizza_runner.runner_orders\n",
    "    WHERE runner_orders.order_id = customer_orders.order_id\n",
    "      AND runner_orders.pickup_time != 'null'\n",
    "  )\n",
    "), cost_table AS (\n",
    "SELECT pizza_id, CASE WHEN pizza_id = 1 THEN 12 ELSE 10 END AS pizza_cost, \n",
    "COALESCE(\n",
    "      CARDINALITY(REGEXP_SPLIT_TO_ARRAY(extras, '[,\\s]+')),\n",
    "      0\n",
    "    ) AS extras_cost\n",
    "FROM cte_cleaned_customer_orders\n",
    ")\n",
    "\n",
    "SELECT SUM(COALESCE(pizza_cost,0) + COALESCE(extras_cost,0)) AS revenue \n",
    "FROM cost_table; \n",
    "\n",
    "\n",
    "```"
   ]
  },
  {
   "cell_type": "markdown",
   "metadata": {},
   "source": [
    "<div>\n",
    "<img src=\"../sql-screenshots/pizza_runner_images/s24.png\" width=\"150\"/>\n",
    "</div>"
   ]
  },
  {
   "cell_type": "markdown",
   "metadata": {},
   "source": [
    "##### 3. The Pizza Runner team now wants to add an additional ratings system that allows customers to rate their runner, how would you design an additional table for this new dataset - generate a schema for this new table and insert your own data for ratings for each successful customer order between 1 to 5."
   ]
  },
  {
   "cell_type": "markdown",
   "metadata": {},
   "source": [
    "```sql \n",
    "SELECT SETSEED(1);\n",
    "\n",
    "DROP TABLE IF EXISTS pizza_runner.ratings;\n",
    "CREATE TABLE pizza_runner.ratings (\n",
    "  \"order_id\" INTEGER,\n",
    "  \"rating\" INTEGER\n",
    ");\n",
    "-- only non-cancelled orders are given a rating\n",
    "INSERT INTO pizza_runner.ratings\n",
    "SELECT\n",
    "  order_id,\n",
    "  FLOOR(1 + 5 * RANDOM()) AS rating\n",
    "FROM pizza_runner.runner_orders\n",
    "WHERE pickup_time IS NOT NULL;\n",
    "```"
   ]
  },
  {
   "cell_type": "markdown",
   "metadata": {},
   "source": [
    "<div>\n",
    "<img src=\"../sql-screenshots/pizza_runner_images/s25.png\" width=\"150\"/>\n",
    "</div>"
   ]
  },
  {
   "cell_type": "markdown",
   "metadata": {},
   "source": [
    "##### 4. Using your newly generated table - can you join all of the information together to form a table which has the following information for successful deliveries? + customer_id + order_id + runner_id + rating + order_time + pickup_time + Time between order and pickup + Delivery duration + Average speed + Total number of pizzas"
   ]
  },
  {
   "cell_type": "markdown",
   "metadata": {},
   "source": [
    "```sql \n",
    "SELECT SETSEED(1);\n",
    "\n",
    "DROP TABLE IF EXISTS pizza_runner.ratings;\n",
    "CREATE TABLE pizza_runner.ratings (\n",
    "  \"order_id\" INTEGER,\n",
    "  \"rating\" INTEGER\n",
    ");\n",
    "\n",
    "INSERT INTO pizza_runner.ratings\n",
    "SELECT\n",
    "  order_id,\n",
    "  FLOOR(1 + 5 * RANDOM()) AS rating\n",
    "FROM pizza_runner.runner_orders\n",
    "WHERE pickup_time IS NOT NULL;\n",
    "\n",
    "WITH t1 AS (\n",
    "SELECT co.order_id, runner_id, rating, order_time, pickup_time, \n",
    "  REGEXP_REPLACE(distance, 'km.\\s*km|km$', '')::NUMERIC AS distance, \n",
    "  REGEXP_REPLACE(duration, 'minutes|\\s*mins|\\sminute[s]?', ''):: NUMERIC AS duration, \n",
    "DATE_PART('min', pickup_time::TIMESTAMP - order_time) AS pickup_minutes\n",
    "FROM pizza_runner.ratings AS r \n",
    "INNER JOIN pizza_runner.runner_orders AS ro \n",
    "ON r.order_id = ro.order_id\n",
    "INNER JOIN pizza_runner.customer_orders AS co \n",
    "ON co.order_id = r.order_id\n",
    "WHERE pickup_time != 'null' OR cancellation NOT IN ('Restaurant Cancellation', 'Customer Cancellation')\n",
    "), pizza_count AS (\n",
    "SELECT order_id, COUNT(order_id) AS pizza_count FROM t1\n",
    "GROUP BY order_id\n",
    "ORDER BY order_id\n",
    "), runner_speed AS (\n",
    "SELECT order_id,runner_id, ROUND(AVG(distance / (duration / 60)),1) AS avg_speed FROM t1\n",
    "GROUP BY order_id, runner_id\n",
    ")\n",
    "\n",
    "SELECT \n",
    " DISTINCT(t1.order_id), \n",
    " t1.runner_id, \n",
    " rating, \n",
    " order_time, \n",
    " pickup_time, \n",
    " pickup_minutes, \n",
    " avg_speed, pizza_count\n",
    "FROM t1\n",
    "INNER JOIN runner_speed AS rs\n",
    "ON t1.order_id = rs.order_id AND t1.runner_id = rs.runner_id \n",
    "INNER JOIN pizza_count AS pc \n",
    "ON t1.order_id = pc.order_id \n",
    "ORDER BY order_id\n",
    "```"
   ]
  },
  {
   "cell_type": "markdown",
   "metadata": {},
   "source": [
    "<div>\n",
    "<img src=\"../sql-screenshots/pizza_runner_images/s26a.png\" width=\"750\"/>\n",
    "</div>"
   ]
  },
  {
   "cell_type": "markdown",
   "metadata": {},
   "source": [
    "##### 5. If a Meat Lovers pizza was $12 and Vegetarian $10 fixed prices with no cost for extras and each runner is paid $0.30 per kilometre traveled - how much money does Pizza Runner have left over after these deliveries?"
   ]
  },
  {
   "cell_type": "markdown",
   "metadata": {},
   "source": [
    "```sql \n",
    "WITH ro_edited AS (\n",
    "SELECT \n",
    " co.order_id, \n",
    " runner_id, \n",
    " pickup_time, \n",
    " distance, \n",
    " duration, pizza_name, \n",
    "  CASE WHEN \n",
    "  cancellation = 'null' OR cancellation IS NULL OR cancellation = '' THEN '0' ELSE '1'\n",
    "  END as cancel_status\n",
    "FROM pizza_runner.runner_orders AS ro \n",
    "LEFT JOIN pizza_runner.customer_orders AS co \n",
    "ON ro.order_id = co.order_id \n",
    "LEFT JOIN pizza_runner.pizza_names AS pn \n",
    "ON co.pizza_id = pn.pizza_id\n",
    "), t1 AS (\n",
    "SELECT \n",
    " order_id, \n",
    " runner_id, \n",
    " pickup_time, \n",
    " REGEXP_REPLACE(distance, 'km.\\s*km|km$', '')::NUMERIC * 0.3 AS distance_cost, \n",
    " CASE WHEN pizza_name = 'Meatlovers' THEN 12 ELSE 10 END AS revenue\n",
    "FROM ro_edited\n",
    "WHERE pickup_time != 'null' AND cancel_status != '1'\n",
    ")\n",
    "\n",
    "SELECT SUM(revenue) - SUM(distance_cost) AS leftover_revenue FROM t1; \n",
    "```\n"
   ]
  },
  {
   "cell_type": "markdown",
   "metadata": {},
   "source": [
    "<div>\n",
    "<img src=\"../sql-screenshots/pizza_runner_images/s27.png\" width=\"250\"/>\n",
    "</div>"
   ]
  }
 ],
 "metadata": {
  "kernelspec": {
   "display_name": "py310",
   "language": "python",
   "name": "python3"
  },
  "language_info": {
   "codemirror_mode": {
    "name": "ipython",
    "version": 3
   },
   "file_extension": ".py",
   "mimetype": "text/x-python",
   "name": "python",
   "nbconvert_exporter": "python",
   "pygments_lexer": "ipython3",
   "version": "3.10.13"
  }
 },
 "nbformat": 4,
 "nbformat_minor": 2
}
