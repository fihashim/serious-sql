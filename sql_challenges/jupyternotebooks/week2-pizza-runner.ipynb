{
 "cells": [
  {
   "cell_type": "markdown",
   "metadata": {},
   "source": [
    "## Week 2 - Pizza Runner"
   ]
  },
  {
   "cell_type": "markdown",
   "metadata": {},
   "source": [
    "### <u>Introduction </u>\n",
    "\n",
    "Did you know that over 115 million kilograms of pizza are devoured daily worldwide? This astounding statistic, coupled with Danny's serendipitous encounter with the phrase \"80s Retro Styling and Pizza Is The Future!\" on Instagram, sparked the inception of Pizza Runner. Recognizing that traditional pizza alone wouldn't suffice to propel his vision forward, Danny conceived the idea to \"Uberize\" pizza delivery—a concept that laid the foundation for Pizza Runner."
   ]
  },
  {
   "cell_type": "markdown",
   "metadata": {},
   "source": [
    "### <u>Entity-Relationship Diagram </u>\n",
    "<div>\n",
    "<img src=\"../sql-screenshots/pizza_runner_images/entity-diagram.png\" width=\"500\"/>\n",
    "</div>\n"
   ]
  },
  {
   "cell_type": "markdown",
   "metadata": {},
   "source": [
    "#### A. Pizza Metrics\n",
    "##### 1. How many pizzas were ordered?\n",
    "```sql\n",
    "SELECT COUNT(pizza_id) AS pizza_count \n",
    "FROM pizza_runner.customer_orders\n",
    "```"
   ]
  },
  {
   "cell_type": "markdown",
   "metadata": {},
   "source": [
    "<div>\n",
    "<img src=\"../sql-screenshots/pizza_runner_images/s1.png\" width=\"250\"/>\n",
    "</div>"
   ]
  },
  {
   "cell_type": "markdown",
   "metadata": {},
   "source": [
    "##### 2. How many unique customer orders were made?\n",
    "```sql \n",
    "SELECT COUNT(DISTINCT customer_id) AS unique_customer_orders \n",
    "FROM pizza_runner.customer_orders\n",
    "```"
   ]
  },
  {
   "cell_type": "markdown",
   "metadata": {},
   "source": [
    "<div>\n",
    "<img src=\"../sql-screenshots/pizza_runner_images/s2.png\" width=\"250\"/>\n",
    "</div>"
   ]
  },
  {
   "cell_type": "markdown",
   "metadata": {},
   "source": [
    "##### 3. How many successful orders were delivered by each runner?\n",
    "```sql \n",
    "SELECT runner_id,\n",
    "SUM(CASE \n",
    "  WHEN cancellation IS NULL OR \n",
    "       cancellation = 'null' OR \n",
    "       nullif(cancellation, '') IS NULL \n",
    "       THEN 1 ELSE 0 \n",
    "  END) AS success_orders\n",
    "FROM pizza_runner.runner_orders AS ro \n",
    "GROUP BY runner_id\n",
    "ORDER BY runner_id \n",
    "```"
   ]
  },
  {
   "cell_type": "markdown",
   "metadata": {},
   "source": [
    "<div>\n",
    "<img src=\"../sql-screenshots/pizza_runner_images/s3.png\" width=\"250\"/>\n",
    "</div>"
   ]
  },
  {
   "cell_type": "markdown",
   "metadata": {},
   "source": [
    "##### 4. How many of each type of pizza was delivered?\n",
    "```sql\n",
    "SELECT pizza_name,\n",
    "SUM(CASE \n",
    "  WHEN cancellation IS NULL OR \n",
    "       cancellation = 'null' OR \n",
    "       nullif(cancellation, '') IS NULL \n",
    "       THEN 1 ELSE 0 \n",
    "  END) AS success_orders\n",
    "FROM pizza_runner.runner_orders AS ro \n",
    "LEFT JOIN pizza_runner.customer_orders AS co \n",
    "ON ro.order_id = co.order_id \n",
    "LEFT JOIN pizza_runner.pizza_names AS pn \n",
    "ON co.pizza_id = pn.pizza_id \n",
    "GROUP BY pizza_name \n",
    "```"
   ]
  },
  {
   "cell_type": "markdown",
   "metadata": {},
   "source": [
    "<div>\n",
    "<img src=\"../sql-screenshots/pizza_runner_images/s4.png\" width=\"250\"/>\n",
    "</div>"
   ]
  },
  {
   "cell_type": "markdown",
   "metadata": {},
   "source": [
    "##### 5. How many Vegetarian and Meatlovers were ordered by each customer?\n"
   ]
  },
  {
   "cell_type": "markdown",
   "metadata": {},
   "source": [
    "```sql\n",
    "SELECT customer_id, pizza_name, COUNT(pizza_name) AS pizza_count \n",
    "FROM pizza_runner.customer_orders AS co \n",
    "LEFT JOIN pizza_runner.pizza_names AS pn \n",
    "ON co.pizza_id = pn.pizza_id\n",
    "GROUP BY customer_id, pizza_name \n",
    "ORDER BY customer_id\n",
    "```"
   ]
  },
  {
   "cell_type": "markdown",
   "metadata": {},
   "source": [
    "<div>\n",
    "<img src=\"../sql-screenshots/pizza_runner_images/s5.png\" width=\"250\"/>\n",
    "</div>"
   ]
  },
  {
   "cell_type": "markdown",
   "metadata": {},
   "source": [
    "##### 6. What was the maximum number of pizzas delivered in a single order?\n"
   ]
  },
  {
   "cell_type": "markdown",
   "metadata": {},
   "source": [
    "```sql \n",
    "WITH t1 AS (\n",
    "SELECT ro.order_id, \n",
    "  COUNT(CASE WHEN cancellation IS NULL OR \n",
    "       cancellation = 'null' OR \n",
    "       nullif(cancellation, '') IS NULL \n",
    "       THEN 1 ELSE 0 \n",
    "  END) AS pizza_success\n",
    "FROM pizza_runner.runner_orders AS ro \n",
    "LEFT JOIN pizza_runner.customer_orders AS co \n",
    "ON ro.order_id = co.order_id \n",
    "GROUP BY ro.order_id \n",
    ")\n",
    "\n",
    "SELECT order_id, MAX(pizza_success) AS max_pizza_order \n",
    "FROM t1 \n",
    "GROUP BY order_id \n",
    "ORDER BY max_pizza_order DESC\n",
    "LIMIT 1 \n",
    "```"
   ]
  },
  {
   "cell_type": "markdown",
   "metadata": {},
   "source": [
    "<div>\n",
    "<img src=\"../sql-screenshots/pizza_runner_images/s6.png\" width=\"250\"/>\n",
    "</div>"
   ]
  },
  {
   "cell_type": "markdown",
   "metadata": {},
   "source": [
    "##### 7. For each customer, how many delivered pizzas had at least 1 change and how many had no changes?\n"
   ]
  },
  {
   "cell_type": "markdown",
   "metadata": {},
   "source": [
    "```sql \n",
    "WITH t1 AS (\n",
    "SELECT *, \n",
    "  CASE WHEN cancellation IS NULL \n",
    "  OR cancellation = 'null' \n",
    "  OR nullif(cancellation, '') IS NULL \n",
    "  THEN 1 ELSE 0 \n",
    "  END AS cancel_status,\n",
    "   CASE WHEN exclusions IS NULL \n",
    "            OR exclusions = 'null' \n",
    "            OR nullif(exclusions, '') IS NULL \n",
    "  THEN 0 \n",
    "  ELSE 1 \n",
    "  END AS exclusion_status, \n",
    "  CASE WHEN extras ='null' \n",
    "            OR nullif(extras, '') IS NULL \n",
    "  THEN 0 \n",
    "  ELSE 1 \n",
    "  END AS extras_status\n",
    "FROM pizza_runner.runner_orders AS ro \n",
    "LEFT JOIN pizza_runner.customer_orders AS co \n",
    "ON ro.order_id = co.order_id\n",
    ")\n",
    "\n",
    "SELECT customer_id, SUM(change_count) AS total_change,SUM(no_change_count) AS total_no_change FROM \n",
    "(\n",
    "  SELECT customer_id, \n",
    "      CASE WHEN exclusion_status = 1 AND extras_status = 1 \n",
    "              OR exclusion_status = 1 AND extras_status = 0 \n",
    "              OR exclusion_status = 0 AND extras_status = 1\n",
    "              THEN 1 ELSE 0 END AS change_count,\n",
    "      CASE WHEN exclusion_status = 0 AND extras_status = 0 \n",
    "              THEN 1 ELSE 0 END as no_change_count\n",
    "      FROM t1 \n",
    "      WHERE cancel_status = 1 \n",
    ")\n",
    "GROUP BY customer_id \n",
    "ORDER BY customer_id \n",
    "```\n"
   ]
  },
  {
   "cell_type": "markdown",
   "metadata": {},
   "source": [
    "<div>\n",
    "<img src=\"../sql-screenshots/pizza_runner_images/s7.png\" width=\"250\"/>\n",
    "</div>"
   ]
  },
  {
   "cell_type": "markdown",
   "metadata": {},
   "source": [
    "##### 8. How many pizzas were delivered that had both exclusions and extras?\n"
   ]
  },
  {
   "cell_type": "markdown",
   "metadata": {},
   "source": [
    "```sql \n",
    "WITH t1 AS (\n",
    "SELECT *, \n",
    "  CASE WHEN cancellation IS NULL \n",
    "  OR cancellation = 'null' \n",
    "  OR nullif(cancellation, '') IS NULL \n",
    "  THEN 1 ELSE 0 \n",
    "  END AS cancel_status,\n",
    "   CASE WHEN exclusions IS NULL \n",
    "            OR exclusions = 'null' \n",
    "            OR nullif(exclusions, '') IS NULL \n",
    "  THEN 0 \n",
    "  ELSE 1 \n",
    "  END AS exclusion_status, \n",
    "  CASE WHEN extras ='null' \n",
    "            OR nullif(extras, '') IS NULL \n",
    "  THEN 0 \n",
    "  ELSE 1 \n",
    "  END AS extras_status\n",
    "FROM pizza_runner.runner_orders AS ro \n",
    "LEFT JOIN pizza_runner.customer_orders AS co \n",
    "ON ro.order_id = co.order_id\n",
    ")\n",
    "\n",
    "SELECT pizza_id, \n",
    "      SUM(CASE WHEN exclusion_status = 1 AND extras_status = 1 \n",
    "              THEN 1 ELSE 0 END) AS pizza_count\n",
    "      FROM t1 \n",
    "      WHERE cancel_status = 1\n",
    "GROUP BY pizza_id \n",
    "\n",
    "```"
   ]
  },
  {
   "cell_type": "markdown",
   "metadata": {},
   "source": [
    "<div>\n",
    "<img src=\"../sql-screenshots/pizza_runner_images/s8.png\" width=\"250\"/>\n",
    "</div>"
   ]
  },
  {
   "cell_type": "markdown",
   "metadata": {},
   "source": [
    "##### 9. What was the total volume of pizzas ordered for each hour of the day?\n"
   ]
  },
  {
   "cell_type": "markdown",
   "metadata": {},
   "source": [
    "```sql \n",
    "DROP TABLE IF EXISTS t1; \n",
    "CREATE TEMP TABLE t1 AS (\n",
    "SELECT co.order_id, co.order_time, co.pizza_id, DATE_TRUNC('day', co.order_time) AS order_day, \n",
    "DATE_TRUNC('hour', co.order_time) AS order_hour\n",
    "FROM pizza_runner.customer_orders AS co \n",
    "LEFT JOIN pizza_runner.runner_orders AS ro \n",
    "ON ro.order_id = co.order_id\n",
    ");\n",
    "\n",
    "SELECT DATE_PART('HOUR', order_hour) AS order_hour_part, COUNT(pizza_id) FROM t1 \n",
    "GROUP BY order_hour_part\n",
    "ORDER BY order_hour_part ASC\n",
    "```"
   ]
  },
  {
   "cell_type": "markdown",
   "metadata": {},
   "source": [
    "<div>\n",
    "<img src=\"../sql-screenshots/pizza_runner_images/s9.png\" width=\"250\"/>\n",
    "</div>"
   ]
  },
  {
   "cell_type": "markdown",
   "metadata": {},
   "source": [
    "##### 10. What was the volume of orders for each day of the week?\n"
   ]
  },
  {
   "cell_type": "markdown",
   "metadata": {},
   "source": [
    "``` sql \n",
    "WITH t1 AS (\n",
    "  SELECT\n",
    "\tTO_CHAR(order_time, 'Day') AS day,\n",
    "\tCOUNT(order_id) AS order_count, \n",
    "\tDATE_PART('dow', order_time) AS day_of_week \n",
    "FROM pizza_runner.customer_orders\n",
    "GROUP BY order_time\n",
    "ORDER BY order_time\n",
    ")\n",
    "\n",
    "SELECT day, SUM(order_count) AS total_orders\n",
    "FROM t1 \n",
    "GROUP BY day_of_week, day\n",
    "ORDER BY day_of_week \n",
    "```"
   ]
  },
  {
   "cell_type": "markdown",
   "metadata": {},
   "source": [
    "<div>\n",
    "<img src=\"../sql-screenshots/pizza_runner_images/s10.png\" width=\"250\"/>\n",
    "</div>"
   ]
  }
 ],
 "metadata": {
  "kernelspec": {
   "display_name": "py310",
   "language": "python",
   "name": "python3"
  },
  "language_info": {
   "codemirror_mode": {
    "name": "ipython",
    "version": 3
   },
   "file_extension": ".py",
   "mimetype": "text/x-python",
   "name": "python",
   "nbconvert_exporter": "python",
   "pygments_lexer": "ipython3",
   "version": "3.10.13"
  }
 },
 "nbformat": 4,
 "nbformat_minor": 2
}
