{
 "cells": [
  {
   "cell_type": "markdown",
   "metadata": {},
   "source": [
    "## Danny Ma's Serious SQL Course - Data Exploration"
   ]
  },
  {
   "cell_type": "markdown",
   "metadata": {},
   "source": [
    "### a. Select and Sort SQL Queries"
   ]
  },
  {
   "cell_type": "markdown",
   "metadata": {},
   "source": [
    "1. What is the name of the category with the highest category_id in the dvd_rentals.category table?\n",
    "~~~sql \n",
    "SELECT \n",
    " category_id, \n",
    " name \n",
    "FROM dvd_rentals.category\n",
    "ORDER BY category_id DESC\n",
    "LIMIT 1"
   ]
  },
  {
   "cell_type": "markdown",
   "metadata": {},
   "source": [
    "![image info](./week1_screenshots/s1.png)"
   ]
  },
  {
   "cell_type": "markdown",
   "metadata": {},
   "source": [
    "2. For the films with the longest length, what is the title of the “R” rated film with the lowest replacement_cost in dvd_rentals.film table?\n",
    "~~~sql \n",
    "SELECT \n",
    " title, \n",
    " replacement_cost, \n",
    " length, \n",
    " rating \n",
    "FROM dvd_rentals.film \n",
    "ORDER BY length DESC, replacement_cost \n",
    "LIMIT 10"
   ]
  },
  {
   "cell_type": "markdown",
   "metadata": {},
   "source": [
    "![image info](./week1_screenshots/s2.png)"
   ]
  },
  {
   "cell_type": "markdown",
   "metadata": {},
   "source": [
    "3. Who was the manager of the store with the highest total_sales in the dvd_rentals.sales_by_store table?\n",
    "\n",
    "~~~sql \n",
    "SELECT \n",
    " manager, \n",
    " total_sales \n",
    "FROM dvd_rentals.sales_by_store\n",
    "ORDER BY total_sales DESC\n",
    "LIMIT 2"
   ]
  },
  {
   "cell_type": "markdown",
   "metadata": {},
   "source": [
    "![image info](./week1_screenshots/s3.png)"
   ]
  },
  {
   "cell_type": "markdown",
   "metadata": {},
   "source": [
    "4. What is the postal_code of the city with the 5th highest city_id in the dvd_rentals.address \n",
    "\n",
    "~~~sql \n",
    "SELECT \n",
    " city_id, \n",
    " postal_code \n",
    "FROM dvd_rentals.address \n",
    "ORDER BY city_id DESC\n",
    "LIMIT 5"
   ]
  },
  {
   "cell_type": "markdown",
   "metadata": {},
   "source": [
    "![image info](./week1_screenshots/s4.png)"
   ]
  },
  {
   "cell_type": "markdown",
   "metadata": {},
   "source": [
    "### b. Record Counts & Distinct Values"
   ]
  },
  {
   "cell_type": "markdown",
   "metadata": {},
   "source": [
    "1. Which actor_id has the most number of unique film_id records in the dvd_rentals.film_actor table?\n",
    "\n",
    "~~~sql \n",
    "SELECT \n",
    " actor_id, \n",
    " COUNT(DISTINCT film_id) as film_count \n",
    "FROM dvd_rentals.film_actor\n",
    "GROUP BY actor_id\n",
    "ORDER BY film_count DESC\n",
    "LIMIT 2"
   ]
  },
  {
   "cell_type": "markdown",
   "metadata": {},
   "source": [
    "![image info](./week1_screenshots/s5.png)"
   ]
  },
  {
   "cell_type": "markdown",
   "metadata": {},
   "source": [
    "2. How many distinct fid values are there for the 3rd most common price value in the dvd_rentals.nicer_but_slower_film_list \n",
    "\n",
    "~~~sql \n",
    "SELECT \n",
    " price,\n",
    " COUNT(DISTINCT(fid)) as fid_count\n",
    "FROM dvd_rentals.nicer_but_slower_film_list\n",
    "GROUP BY price\n",
    "ORDER BY fid_count DESC"
   ]
  },
  {
   "cell_type": "markdown",
   "metadata": {},
   "source": [
    "![image info](./week1_screenshots/s6.png)"
   ]
  },
  {
   "cell_type": "markdown",
   "metadata": {},
   "source": [
    "3. How many unique country_id values exist in the dvd_rentals.city table?\n",
    "\n",
    "~~~sql \n",
    "SELECT \n",
    " COUNT(DISTINCT country_id) \n",
    "FROM dvd_rentals.city "
   ]
  },
  {
   "cell_type": "markdown",
   "metadata": {},
   "source": [
    "![image info](./week1_screenshots/s7a.png)"
   ]
  },
  {
   "cell_type": "markdown",
   "metadata": {},
   "source": [
    "4. What percentage of overall total_sales does the Sports category make up in the dvd_rentals.sales_by_film_category \n",
    "\n",
    "~~~sql \n",
    "SELECT \n",
    " category,\n",
    " ROUND(\n",
    " 100 * total_sales::NUMERIC / SUM(total_sales) OVER(),2) \n",
    " AS percent\n",
    "FROM dvd_rentals.sales_by_film_category"
   ]
  },
  {
   "cell_type": "markdown",
   "metadata": {},
   "source": [
    "![image info](./week1_screenshots/s8.png)"
   ]
  },
  {
   "cell_type": "markdown",
   "metadata": {},
   "source": [
    "5. What percentage of unique fid values are in the Children category in the dvd_rentals.film_list table?\n",
    "\n",
    "~~~sql \n",
    "SELECT \n",
    " category, \n",
    " ROUND(100 * COUNT(DISTINCT fid)::NUMERIC / SUM(COUNT(fid)) OVER(), 2) AS percent\n",
    "FROM dvd_rentals.film_list \n",
    "GROUP BY category\n",
    "ORDER BY category"
   ]
  },
  {
   "cell_type": "markdown",
   "metadata": {},
   "source": [
    "![image info](./week1_screenshots/s9.png)"
   ]
  },
  {
   "cell_type": "markdown",
   "metadata": {},
   "source": [
    "### c. Identifying Duplicate Records"
   ]
  },
  {
   "cell_type": "markdown",
   "metadata": {},
   "source": [
    "1. Which id value has the most number of duplicate records in the health.user_logs\n",
    "\n",
    "~~~sql WITH groupby_counts AS (\n",
    "  SELECT id, \n",
    "   log_date,\n",
    "    measure,\n",
    "    measure_value,\n",
    "    systolic,\n",
    "    diastolic,\n",
    "    COUNT(*) AS frequency\n",
    "FROM health.user_logs\n",
    "GROUP BY \n",
    "    id, \n",
    "    log_date,\n",
    "    measure,\n",
    "    measure_value,\n",
    "    systolic,\n",
    "    diastolic \n",
    ")\n",
    "\n",
    "SELECT id,\n",
    " SUM(frequency) AS duplicate_records\n",
    " FROM groupby_counts \n",
    "  WHERE frequency > 1 \n",
    " GROUP BY id \n",
    " ORDER BY SUM(frequency) DESC \n"
   ]
  },
  {
   "cell_type": "markdown",
   "metadata": {},
   "source": [
    "![image info](./week1_screenshots/s10.png)"
   ]
  },
  {
   "cell_type": "markdown",
   "metadata": {},
   "source": [
    "2. Which log_date value had the most duplicate records after removing the max duplicate id value from question 1?\n",
    "\n",
    "~~~sql \n",
    "WITH groupby_counts AS (\n",
    "SELECT \n",
    "id, \n",
    "log_date, \n",
    "measure, \n",
    "measure_value, \n",
    "systolic, \n",
    "diastolic, \n",
    "COUNT(*) AS frequency \n",
    "FROM health.user_logs\n",
    "WHERE id != '054250c692e07a9fa9e62e345231df4b54ff435d'\n",
    "GROUP BY \n",
    "  id,\n",
    "  log_date, \n",
    "  measure, \n",
    "  measure_value, \n",
    "  systolic, \n",
    "  diastolic \n",
    ")\n",
    "\n",
    "SELECT log_date, \n",
    "SUM(frequency) AS duplicate_records\n",
    "FROM groupby_counts\n",
    "WHERE frequency > 1 \n",
    "GROUP BY log_date \n",
    "ORDER BY SUM(frequency) DESC\n",
    "\n"
   ]
  },
  {
   "cell_type": "markdown",
   "metadata": {},
   "source": [
    "![image info](./week1_screenshots/s11.png)"
   ]
  },
  {
   "cell_type": "markdown",
   "metadata": {},
   "source": [
    "3. Which measure_value had the most occurences in the health.user_logs value when measure = 'weight'?\n",
    "\n",
    "~~~sql \n",
    "SELECT measure_value, \n",
    "  COUNT(measure_value) AS measure_count \n",
    "  FROM health.user_logs \n",
    "WHERE measure = 'weight'\n",
    "GROUP BY measure_value\n",
    "ORDER BY measure_count DESC"
   ]
  },
  {
   "cell_type": "markdown",
   "metadata": {},
   "source": [
    "![image info](./week1_screenshots/s12.png)"
   ]
  },
  {
   "cell_type": "markdown",
   "metadata": {},
   "source": [
    "4. How many single duplicated rows exist when measure = 'blood_pressure' in the health.user_logs? How about the total number of duplicate records in the same table?\n",
    "\n",
    "~~~sql \n",
    "WITH groupby_count AS (\n",
    "  SELECT id, \n",
    "       log_date, \n",
    "       measure, \n",
    "       measure_value, \n",
    "       systolic,\n",
    "       diastolic, \n",
    "       COUNT(*) AS frequency\n",
    "FROM health.user_logs\n",
    "WHERE measure = 'blood_pressure'\n",
    "GROUP BY \n",
    "  id, \n",
    "  log_date, \n",
    "   measure, \n",
    "   measure_value, \n",
    "   systolic,\n",
    "   diastolic \n",
    ")\n",
    "\n",
    "SELECT COUNT(*) AS single_duplicated_row_count, \n",
    "SUM(frequency) AS total_duplicated_rows \n",
    "FROM groupby_count \n",
    "WHERE frequency > 1\n"
   ]
  },
  {
   "cell_type": "markdown",
   "metadata": {},
   "source": [
    "![image info](./week1_screenshots/s13.png)"
   ]
  },
  {
   "cell_type": "markdown",
   "metadata": {},
   "source": [
    "5. What percentage of records measure_value = 0\n",
    "when measure = 'blood_pressure' in the health.user_logs table?\n",
    "How many records are there also for this same condition?\n",
    "\n",
    "~~~sql \n",
    "WITH groupby_counts AS (\n",
    "  SELECT\n",
    "    measure_value,\n",
    "    COUNT(*) AS measure_count,\n",
    "    SUM(COUNT(*)) OVER () AS overall_total\n",
    "  FROM health.user_logs\n",
    "  WHERE measure = 'blood_pressure'\n",
    "  GROUP BY 1\n",
    ")\n",
    "\n",
    "SELECT measure_value, measure_count, overall_total, \n",
    "ROUND(100 * measure_count / overall_total,2) AS percentage\n",
    "FROM groupby_counts\n",
    "WHERE measure_value = 0 \n"
   ]
  },
  {
   "cell_type": "markdown",
   "metadata": {},
   "source": [
    "![image info](./week1_screenshots/s14.png)"
   ]
  },
  {
   "cell_type": "markdown",
   "metadata": {},
   "source": [
    "6. What percentage of records are duplicates in the health.user_logs table?\n",
    "\n",
    "~~~sql\n",
    "WITH deduped_logs AS (\n",
    "  SELECT DISTINCT *\n",
    "  FROM health.user_logs\n",
    ")\n",
    "SELECT\n",
    "  ROUND(\n",
    "    100 * (\n",
    "      (SELECT COUNT(*) FROM health.user_logs) -\n",
    "      (SELECT COUNT(*) FROM deduped_logs)\n",
    "    )::NUMERIC /\n",
    "    (SELECT COUNT(*) FROM health.user_logs),\n",
    "    2\n",
    "  ) AS duplicate_percentage;"
   ]
  },
  {
   "cell_type": "markdown",
   "metadata": {},
   "source": [
    "![image info](./week1_screenshots/s15.png)"
   ]
  },
  {
   "cell_type": "markdown",
   "metadata": {},
   "source": [
    "### c. Summary Statistics"
   ]
  },
  {
   "cell_type": "markdown",
   "metadata": {},
   "source": [
    "1. What is the average, median and mode values of blood glucose values to 2 decimal places?\n",
    "~~~sql\n",
    "SELECT\n",
    "  ROUND(AVG(measure_value), 2),\n",
    "  ROUND(\n",
    "    CAST(\n",
    "      PERCENTILE_CONT(0.5) WITHIN GROUP (\n",
    "        ORDER BY measure_value\n",
    "        ) AS NUMERIC\n",
    "       ),2\n",
    "       ) AS median_value,\n",
    "  ROUND(\n",
    "  CAST(\n",
    "  MODE() WITHIN GROUP (\n",
    "    ORDER BY\n",
    "      measure_value) AS NUMERIC), 2) AS mode_value\n",
    "FROM\n",
    "  health.user_logs\n",
    "WHERE\n",
    "  measure = 'blood_glucose'"
   ]
  },
  {
   "cell_type": "markdown",
   "metadata": {},
   "source": [
    "![image info](./week1_screenshots/s16.png)"
   ]
  },
  {
   "cell_type": "markdown",
   "metadata": {},
   "source": [
    "2. What is the most frequently occuring measure_value value for all blood glucose measurements?\n",
    "\n",
    "~~~sql \n",
    "SELECT measure_value, \n",
    "COUNT(measure_value) AS measure_count FROM health.user_logs\n",
    "WHERE measure = 'blood_glucose'\n",
    "GROUP BY measure_value \n",
    "ORDER BY measure_count DESC\n",
    "LIMIT 5"
   ]
  },
  {
   "cell_type": "markdown",
   "metadata": {},
   "source": [
    "![image info](./week1_screenshots/s17.png)"
   ]
  },
  {
   "cell_type": "markdown",
   "metadata": {},
   "source": [
    "3. Calculate the 2 Pearson Coefficient of Skewness for blood glucose measures given the following formulas:\n",
    "\n",
    "~~~sql \n",
    "WITH blood_glucose AS\n",
    "(\n",
    "  SELECT AVG(measure_value) AS average_value, \n",
    "  MODE() WITHIN GROUP (ORDER BY measure_value) AS mode_value, \n",
    "  STDDEV(measure_value) AS std_value, \n",
    "  PERCENTILE_CONT(0.5) WITHIN GROUP (ORDER BY measure_value) AS median_value\n",
    "  FROM health.user_logs\n",
    "  WHERE measure = 'blood_glucose'\n",
    ")\n",
    "SELECT \n",
    "  ROUND(CAST((average_value - mode_value) / std_value AS NUMERIC),2) AS coef1, \n",
    "  ROUND(CAST((3 * (average_value- median_value) / std_value) AS NUMERIC), 2) AS coeff2\n",
    "FROM blood_glucose"
   ]
  },
  {
   "cell_type": "markdown",
   "metadata": {},
   "source": [
    "![image info](./week1_screenshots/s18.png)"
   ]
  }
 ],
 "metadata": {
  "kernelspec": {
   "display_name": "py310",
   "language": "python",
   "name": "python3"
  },
  "language_info": {
   "codemirror_mode": {
    "name": "ipython",
    "version": 3
   },
   "file_extension": ".py",
   "mimetype": "text/x-python",
   "name": "python",
   "nbconvert_exporter": "python",
   "pygments_lexer": "ipython3",
   "version": "3.10.13"
  }
 },
 "nbformat": 4,
 "nbformat_minor": 2
}
