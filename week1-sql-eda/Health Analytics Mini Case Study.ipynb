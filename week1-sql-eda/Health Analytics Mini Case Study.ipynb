{
 "cells": [
  {
   "cell_type": "markdown",
   "metadata": {},
   "source": [
    "## <u>Health Analytics Mini Case Study</u>"
   ]
  },
  {
   "cell_type": "markdown",
   "metadata": {},
   "source": [
    "### An urgent request from the General Manager of Analytics at Health Co requesting our assistance with their analysis of the health.user_logs dataset.\n",
    "\n",
    "### Business questions: \n",
    "1. How many unique users exist in the logs dataset?\n",
    "~~~sql\n",
    "  SELECT COUNT(DISTINCT id) \n",
    "  FROM health.user_logs"
   ]
  },
  {
   "cell_type": "markdown",
   "metadata": {},
   "source": [
    "![image info](./week1_screenshots/s19.png)"
   ]
  },
  {
   "cell_type": "markdown",
   "metadata": {},
   "source": [
    "2. How many total measurements do we have per user on average?\n",
    "~~~sql \n",
    "DROP TABLE IF EXISTS user_measure_count;\n",
    "CREATE TEMP TABLE user_measure_count AS (\n",
    "SELECT\n",
    "    id,\n",
    "    COUNT(*) AS measure_count,\n",
    "    COUNT(DISTINCT measure) as unique_measures\n",
    "  FROM health.user_logs\n",
    "  GROUP BY id); \n",
    "\n",
    "SELECT\n",
    "  ROUND(AVG(measure_count),2) AS avg_measurements\n",
    "FROM user_measure_count;"
   ]
  },
  {
   "cell_type": "markdown",
   "metadata": {},
   "source": [
    "![image info](./week1_screenshots/s20.png)"
   ]
  },
  {
   "cell_type": "markdown",
   "metadata": {},
   "source": [
    "3. What about the median number of measurements per user?\n",
    "~~~sql\n",
    "SELECT \n",
    "  PERCENTILE_CONT(0.5) WITHIN GROUP (ORDER BY measure_count) AS median_value\n",
    "FROM user_measure_count;"
   ]
  },
  {
   "cell_type": "markdown",
   "metadata": {},
   "source": [
    "![image info](./week1_screenshots/s21.png)"
   ]
  },
  {
   "cell_type": "markdown",
   "metadata": {},
   "source": [
    "4. How many users have 3 or more measurements?\n",
    "~~~sql\n",
    "SELECT \n",
    "  COUNT(*)\n",
    "FROM user_measure_count\n",
    "WHERE measure_count >= 3"
   ]
  },
  {
   "cell_type": "markdown",
   "metadata": {},
   "source": [
    "![image info](./week1_screenshots/s22.png)"
   ]
  },
  {
   "cell_type": "markdown",
   "metadata": {},
   "source": [
    "5. How many users have 1,000 or more measurements?\n",
    "~~~sql\n",
    "SELECT \n",
    "  COUNT(*)\n",
    "FROM user_measure_count\n",
    "WHERE measure_count >= 1000"
   ]
  },
  {
   "cell_type": "markdown",
   "metadata": {},
   "source": [
    "![image info](./week1_screenshots/s23.png)"
   ]
  },
  {
   "cell_type": "markdown",
   "metadata": {},
   "source": [
    "6. Looking at the logs data - what is the number and percentage of the active user base who:\n",
    "   - Have logged blood glucose measurements?\n",
    "\n",
    "~~~sql\n",
    "SELECT measure,\n",
    "  COUNT(DISTINCT id) AS unique_blood_glucose_user,\n",
    "ROUND(100 * COUNT(DISTINCT id) / SUM(COUNT (DISTINCT ID)) OVER(),2) AS percent \n",
    "FROM health.user_logs\n",
    "GROUP BY measure\n"
   ]
  },
  {
   "cell_type": "markdown",
   "metadata": {},
   "source": [
    "![image info](./week1_screenshots/s24.png)"
   ]
  },
  {
   "cell_type": "markdown",
   "metadata": {},
   "source": [
    "   - Have at least 2 types of measurements?\n",
    "~~~sql\n",
    "SELECT\n",
    "  COUNT(*), ROUND(100 * COUNT(*) / SUM(unique_measures),2) AS percent\n",
    "FROM user_measure_count\n",
    "WHERE unique_measures >= 2;\n"
   ]
  },
  {
   "cell_type": "markdown",
   "metadata": {},
   "source": [
    "![image info](./week1_screenshots/s25.png)"
   ]
  },
  {
   "cell_type": "markdown",
   "metadata": {},
   "source": [
    "   - Have all 3 measures - blood glucose, weight and blood pressure?\n",
    "\n",
    "   ~~~sql\n",
    "   WITH all_measures AS (\n",
    "SELECT *\n",
    "FROM user_measure_count\n",
    "WHERE unique_measures = 3)\n",
    "\n",
    "SELECT\n",
    "  COUNT(DISTINCT m.id) AS unique_user,\n",
    "  100 * ROUND(COUNT(DISTINCT m.id)::numeric / COUNT(DISTINCT u.id),2) AS unique_user_percentage\n",
    "FROM user_measure_count AS u\n",
    "LEFT JOIN all_measures AS m\n",
    "  ON u.id = m.id;"
   ]
  },
  {
   "cell_type": "markdown",
   "metadata": {},
   "source": [
    "![image info](./week1_screenshots/s26.png)"
   ]
  },
  {
   "cell_type": "markdown",
   "metadata": {},
   "source": [
    "7. For users that have blood pressure measurements:\n",
    "   - What is the median systolic/diastolic blood pressure values?\n",
    "\n",
    "~~~sql \n",
    "WITH t1 AS (\n",
    "SELECT id, \n",
    "  measure, systolic, diastolic\n",
    "  FROM \n",
    "  health.user_logs\n",
    "  WHERE measure = 'blood_pressure'\n",
    ")\n",
    "SELECT PERCENTILE_CONT(0.5) WITHIN GROUP (ORDER BY systolic) AS median_syst, \n",
    "PERCENTILE_CONT(0.5) WITHIN GROUP (ORDER BY diastolic) AS median_diastol\n",
    "FROM t1\n"
   ]
  },
  {
   "cell_type": "markdown",
   "metadata": {},
   "source": [
    "![image info](./week1_screenshots/s27.png)"
   ]
  }
 ],
 "metadata": {
  "kernelspec": {
   "display_name": "py310",
   "language": "python",
   "name": "python3"
  },
  "language_info": {
   "codemirror_mode": {
    "name": "ipython",
    "version": 3
   },
   "file_extension": ".py",
   "mimetype": "text/x-python",
   "name": "python",
   "nbconvert_exporter": "python",
   "pygments_lexer": "ipython3",
   "version": "3.10.13"
  }
 },
 "nbformat": 4,
 "nbformat_minor": 2
}
