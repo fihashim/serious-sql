{
 "cells": [
  {
   "cell_type": "markdown",
   "metadata": {},
   "source": [
    "# Marketing Analytics Case Study\n",
    "\n",
    "### <u>Introduction </u>\n",
    "The marketing team at DVD Rental Co has entrusted us with the task of providing analytical inputs essential for their inaugural customer email campaign. These personalized emails are anticipated to boost sales and engagement within the DVD Rental Co customer community. The primary objective is to convey insights into each customer's viewing habits, showcasing DVD Rental Co's unwavering commitment to customer satisfaction.\n",
    "\n",
    "The marketing team has specifically requested insights into each customer's top two categories and favorite actor. Additionally, they seek three personalized recommendations based on each customer's viewing history, along with titles popular among other customers."
   ]
  },
  {
   "cell_type": "markdown",
   "metadata": {},
   "source": [
    "### Entity-Relationship Diagram\n",
    "\n",
    "<div>\n",
    "<img src=\"week2_screenshots/entity-diagram2.png\" width=\"500\"/>\n",
    "</div>"
   ]
  },
  {
   "cell_type": "markdown",
   "metadata": {},
   "source": [
    "### <u>Email Template </u>\n",
    "The email template below shows the data analytics and customer insight components numbered according to the questions that will be explored in this case study.\n",
    "\n",
    "<div>\n",
    "<img src=\"week2_screenshots/s1a.png\" width=\"500\"/>\n",
    "</div>"
   ]
  },
  {
   "cell_type": "markdown",
   "metadata": {},
   "source": [
    "```sql\n",
    "-- create a base dataset and join all relevant tables - complete dataset \n",
    "DROP TABLE IF EXISTS complete_dataset; \n",
    "CREATE TEMP TABLE complete_dataset AS (\n",
    "SELECT\n",
    "      r.customer_id, \n",
    "      f.film_id, f.title, \n",
    "      c.name, r.rental_date\n",
    "FROM dvd_rentals.rental AS r\n",
    "  INNER JOIN dvd_rentals.inventory AS i \n",
    "  ON r.inventory_id = i.inventory_id\n",
    "  INNER JOIN dvd_rentals.film AS f \n",
    "  ON i.film_id = f.film_id\n",
    "  INNER JOIN dvd_rentals.film_category AS fc \n",
    "  ON f.film_id = fc.film_id \n",
    "  INNER JOIN dvd_rentals.category as c \n",
    "  ON fc.category_id = c.category_id\n",
    ");\n",
    "\n",
    "-- Calculate customer rental counts for each category\n",
    "DROP TABLE IF EXISTS category_counts; \n",
    "CREATE TEMP TABLE category_counts AS (\n",
    "SELECT customer_id, \n",
    "       name, COUNT(*) AS category_count\n",
    "FROM complete_dataset\n",
    "GROUP BY customer_id, name\n",
    "ORDER BY customer_id, category_count DESC \n",
    ");\n",
    "\n",
    "--aggregate all customer total films watched\n",
    "DROP TABLE IF EXISTS total_counts; \n",
    "CREATE TEMP TABLE total_counts AS ( \n",
    "SELECT customer_id, SUM(category_count) AS total_films\n",
    "FROM category_counts\n",
    "GROUP BY customer_id \n",
    "ORDER BY total_films DESC\n",
    ");\n",
    "\n",
    "-- top 2 categories for each customer \n",
    "DROP TABLE IF EXISTS top_categories; \n",
    "CREATE TEMP TABLE top_categories AS (\n",
    "SELECT *, \n",
    "RANK() OVER \n",
    "  (PARTITION BY customer_id \n",
    "    ORDER BY category_count DESC) AS category_rank\n",
    "FROM category_counts\n",
    ");\n",
    "\n",
    "-- calculate each category's average rental count \n",
    "SELECT name, FLOOR(AVG(rental_count)) AS avg_category_rental FROM category_counts\n",
    "GROUP BY name\n",
    "ORDER BY avg_category_rental DESC, name\n",
    "```\n"
   ]
  },
  {
   "cell_type": "markdown",
   "metadata": {},
   "source": [
    "##### 1. What was the top category watched by total rental count?\n"
   ]
  },
  {
   "cell_type": "markdown",
   "metadata": {},
   "source": [
    "##### 2. How many total films have they watched in their top category and how does it compare to the DVD Rental Co customer base?\n"
   ]
  },
  {
   "cell_type": "markdown",
   "metadata": {},
   "source": [
    "##### 3. How many more films has the customer watched compared to the average DVD Rental Co customer?\n"
   ]
  },
  {
   "cell_type": "markdown",
   "metadata": {},
   "source": [
    "##### 4. How does the customer rank in terms of the top X% compared to all other customers in this film category?"
   ]
  },
  {
   "cell_type": "markdown",
   "metadata": {},
   "source": [
    "##### 5. What are the top 3 film recommendations in the top category ranked by total customer rental count which the customer has not seen before?"
   ]
  }
 ],
 "metadata": {
  "kernelspec": {
   "display_name": "py310",
   "language": "python",
   "name": "python3"
  },
  "language_info": {
   "name": "python",
   "version": "3.10.13"
  }
 },
 "nbformat": 4,
 "nbformat_minor": 2
}
